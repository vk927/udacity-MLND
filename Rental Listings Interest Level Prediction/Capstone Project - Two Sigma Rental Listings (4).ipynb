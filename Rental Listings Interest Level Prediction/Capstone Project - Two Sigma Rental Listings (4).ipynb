{
 "cells": [
  {
   "cell_type": "markdown",
   "metadata": {},
   "source": [
    "# Finding the Interest Level of Rental Listings\n",
    "\n",
    "## Goal of our project is develop a model  to categorize rental listings in such a way that end user don’t need to spend time in finding the highly interested advertisements with a good F1 score and this F1 score should be greater than our benchmark model.\n",
    "\n",
    "### 1) In this project, we start with data analysis using the pandas , numpy \n",
    "### 2) Later, we apply K-Means on latitude and longitude to get Geographical clusters\n",
    "### 3) Apply NLP on description and ontain some key features\n",
    "### 4) Apply Multi-Class classification algorithms  and use F1 score to evalaute the model"
   ]
  },
  {
   "cell_type": "code",
   "execution_count": 1,
   "metadata": {
    "collapsed": true
   },
   "outputs": [],
   "source": [
    "#import pandas and numpy\n",
    "import pandas as pd\n",
    "import numpy as np"
   ]
  },
  {
   "cell_type": "markdown",
   "metadata": {},
   "source": [
    "#### Convert training json file data into dataframe"
   ]
  },
  {
   "cell_type": "code",
   "execution_count": 2,
   "metadata": {
    "collapsed": true
   },
   "outputs": [],
   "source": [
    "df=pd.read_json(\"C:\\\\Users\\\\venkata_kalluri\\\\Desktop\\\\twosigma\\\\train.json\\\\train.json\")"
   ]
  },
  {
   "cell_type": "markdown",
   "metadata": {},
   "source": [
    "#### Reset the index"
   ]
  },
  {
   "cell_type": "code",
   "execution_count": 3,
   "metadata": {
    "collapsed": true
   },
   "outputs": [],
   "source": [
    "df=df.reset_index()"
   ]
  },
  {
   "cell_type": "markdown",
   "metadata": {},
   "source": [
    "#### Describe the training data"
   ]
  },
  {
   "cell_type": "code",
   "execution_count": 4,
   "metadata": {
    "collapsed": false
   },
   "outputs": [
    {
     "data": {
      "text/html": [
       "<div>\n",
       "<table border=\"1\" class=\"dataframe\">\n",
       "  <thead>\n",
       "    <tr style=\"text-align: right;\">\n",
       "      <th></th>\n",
       "      <th>index</th>\n",
       "      <th>bathrooms</th>\n",
       "      <th>bedrooms</th>\n",
       "      <th>latitude</th>\n",
       "      <th>listing_id</th>\n",
       "      <th>longitude</th>\n",
       "      <th>price</th>\n",
       "    </tr>\n",
       "  </thead>\n",
       "  <tbody>\n",
       "    <tr>\n",
       "      <th>count</th>\n",
       "      <td>49352.000000</td>\n",
       "      <td>49352.00000</td>\n",
       "      <td>49352.000000</td>\n",
       "      <td>49352.000000</td>\n",
       "      <td>4.935200e+04</td>\n",
       "      <td>49352.000000</td>\n",
       "      <td>4.935200e+04</td>\n",
       "    </tr>\n",
       "    <tr>\n",
       "      <th>mean</th>\n",
       "      <td>62063.319724</td>\n",
       "      <td>1.21218</td>\n",
       "      <td>1.541640</td>\n",
       "      <td>40.741545</td>\n",
       "      <td>7.024055e+06</td>\n",
       "      <td>-73.955716</td>\n",
       "      <td>3.830174e+03</td>\n",
       "    </tr>\n",
       "    <tr>\n",
       "      <th>std</th>\n",
       "      <td>35784.341886</td>\n",
       "      <td>0.50142</td>\n",
       "      <td>1.115018</td>\n",
       "      <td>0.638535</td>\n",
       "      <td>1.262746e+05</td>\n",
       "      <td>1.177912</td>\n",
       "      <td>2.206687e+04</td>\n",
       "    </tr>\n",
       "    <tr>\n",
       "      <th>min</th>\n",
       "      <td>4.000000</td>\n",
       "      <td>0.00000</td>\n",
       "      <td>0.000000</td>\n",
       "      <td>0.000000</td>\n",
       "      <td>6.811957e+06</td>\n",
       "      <td>-118.271000</td>\n",
       "      <td>4.300000e+01</td>\n",
       "    </tr>\n",
       "    <tr>\n",
       "      <th>25%</th>\n",
       "      <td>31105.750000</td>\n",
       "      <td>1.00000</td>\n",
       "      <td>1.000000</td>\n",
       "      <td>40.728300</td>\n",
       "      <td>6.915888e+06</td>\n",
       "      <td>-73.991700</td>\n",
       "      <td>2.500000e+03</td>\n",
       "    </tr>\n",
       "    <tr>\n",
       "      <th>50%</th>\n",
       "      <td>62033.500000</td>\n",
       "      <td>1.00000</td>\n",
       "      <td>1.000000</td>\n",
       "      <td>40.751800</td>\n",
       "      <td>7.021070e+06</td>\n",
       "      <td>-73.977900</td>\n",
       "      <td>3.150000e+03</td>\n",
       "    </tr>\n",
       "    <tr>\n",
       "      <th>75%</th>\n",
       "      <td>93011.750000</td>\n",
       "      <td>1.00000</td>\n",
       "      <td>2.000000</td>\n",
       "      <td>40.774300</td>\n",
       "      <td>7.128733e+06</td>\n",
       "      <td>-73.954800</td>\n",
       "      <td>4.100000e+03</td>\n",
       "    </tr>\n",
       "    <tr>\n",
       "      <th>max</th>\n",
       "      <td>124009.000000</td>\n",
       "      <td>10.00000</td>\n",
       "      <td>8.000000</td>\n",
       "      <td>44.883500</td>\n",
       "      <td>7.753784e+06</td>\n",
       "      <td>0.000000</td>\n",
       "      <td>4.490000e+06</td>\n",
       "    </tr>\n",
       "  </tbody>\n",
       "</table>\n",
       "</div>"
      ],
      "text/plain": [
       "               index    bathrooms      bedrooms      latitude    listing_id  \\\n",
       "count   49352.000000  49352.00000  49352.000000  49352.000000  4.935200e+04   \n",
       "mean    62063.319724      1.21218      1.541640     40.741545  7.024055e+06   \n",
       "std     35784.341886      0.50142      1.115018      0.638535  1.262746e+05   \n",
       "min         4.000000      0.00000      0.000000      0.000000  6.811957e+06   \n",
       "25%     31105.750000      1.00000      1.000000     40.728300  6.915888e+06   \n",
       "50%     62033.500000      1.00000      1.000000     40.751800  7.021070e+06   \n",
       "75%     93011.750000      1.00000      2.000000     40.774300  7.128733e+06   \n",
       "max    124009.000000     10.00000      8.000000     44.883500  7.753784e+06   \n",
       "\n",
       "          longitude         price  \n",
       "count  49352.000000  4.935200e+04  \n",
       "mean     -73.955716  3.830174e+03  \n",
       "std        1.177912  2.206687e+04  \n",
       "min     -118.271000  4.300000e+01  \n",
       "25%      -73.991700  2.500000e+03  \n",
       "50%      -73.977900  3.150000e+03  \n",
       "75%      -73.954800  4.100000e+03  \n",
       "max        0.000000  4.490000e+06  "
      ]
     },
     "execution_count": 4,
     "metadata": {},
     "output_type": "execute_result"
    }
   ],
   "source": [
    "df.describe()"
   ]
  },
  {
   "cell_type": "markdown",
   "metadata": {},
   "source": [
    "#### Display the top 5 rows of data"
   ]
  },
  {
   "cell_type": "code",
   "execution_count": 5,
   "metadata": {
    "collapsed": false
   },
   "outputs": [
    {
     "data": {
      "text/html": [
       "<div>\n",
       "<table border=\"1\" class=\"dataframe\">\n",
       "  <thead>\n",
       "    <tr style=\"text-align: right;\">\n",
       "      <th></th>\n",
       "      <th>index</th>\n",
       "      <th>bathrooms</th>\n",
       "      <th>bedrooms</th>\n",
       "      <th>building_id</th>\n",
       "      <th>created</th>\n",
       "      <th>description</th>\n",
       "      <th>display_address</th>\n",
       "      <th>features</th>\n",
       "      <th>interest_level</th>\n",
       "      <th>latitude</th>\n",
       "      <th>listing_id</th>\n",
       "      <th>longitude</th>\n",
       "      <th>manager_id</th>\n",
       "      <th>photos</th>\n",
       "      <th>price</th>\n",
       "      <th>street_address</th>\n",
       "    </tr>\n",
       "  </thead>\n",
       "  <tbody>\n",
       "    <tr>\n",
       "      <th>0</th>\n",
       "      <td>10</td>\n",
       "      <td>1.5</td>\n",
       "      <td>3</td>\n",
       "      <td>53a5b119ba8f7b61d4e010512e0dfc85</td>\n",
       "      <td>2016-06-24 07:54:24</td>\n",
       "      <td>A Brand New 3 Bedroom 1.5 bath ApartmentEnjoy ...</td>\n",
       "      <td>Metropolitan Avenue</td>\n",
       "      <td>[]</td>\n",
       "      <td>medium</td>\n",
       "      <td>40.7145</td>\n",
       "      <td>7211212</td>\n",
       "      <td>-73.9425</td>\n",
       "      <td>5ba989232d0489da1b5f2c45f6688adc</td>\n",
       "      <td>[https://photos.renthop.com/2/7211212_1ed4542e...</td>\n",
       "      <td>3000</td>\n",
       "      <td>792 Metropolitan Avenue</td>\n",
       "    </tr>\n",
       "    <tr>\n",
       "      <th>1</th>\n",
       "      <td>10000</td>\n",
       "      <td>1.0</td>\n",
       "      <td>2</td>\n",
       "      <td>c5c8a357cba207596b04d1afd1e4f130</td>\n",
       "      <td>2016-06-12 12:19:27</td>\n",
       "      <td></td>\n",
       "      <td>Columbus Avenue</td>\n",
       "      <td>[Doorman, Elevator, Fitness Center, Cats Allow...</td>\n",
       "      <td>low</td>\n",
       "      <td>40.7947</td>\n",
       "      <td>7150865</td>\n",
       "      <td>-73.9667</td>\n",
       "      <td>7533621a882f71e25173b27e3139d83d</td>\n",
       "      <td>[https://photos.renthop.com/2/7150865_be3306c5...</td>\n",
       "      <td>5465</td>\n",
       "      <td>808 Columbus Avenue</td>\n",
       "    </tr>\n",
       "    <tr>\n",
       "      <th>2</th>\n",
       "      <td>100004</td>\n",
       "      <td>1.0</td>\n",
       "      <td>1</td>\n",
       "      <td>c3ba40552e2120b0acfc3cb5730bb2aa</td>\n",
       "      <td>2016-04-17 03:26:41</td>\n",
       "      <td>Top Top West Village location, beautiful Pre-w...</td>\n",
       "      <td>W 13 Street</td>\n",
       "      <td>[Laundry In Building, Dishwasher, Hardwood Flo...</td>\n",
       "      <td>high</td>\n",
       "      <td>40.7388</td>\n",
       "      <td>6887163</td>\n",
       "      <td>-74.0018</td>\n",
       "      <td>d9039c43983f6e564b1482b273bd7b01</td>\n",
       "      <td>[https://photos.renthop.com/2/6887163_de85c427...</td>\n",
       "      <td>2850</td>\n",
       "      <td>241 W 13 Street</td>\n",
       "    </tr>\n",
       "    <tr>\n",
       "      <th>3</th>\n",
       "      <td>100007</td>\n",
       "      <td>1.0</td>\n",
       "      <td>1</td>\n",
       "      <td>28d9ad350afeaab8027513a3e52ac8d5</td>\n",
       "      <td>2016-04-18 02:22:02</td>\n",
       "      <td>Building Amenities - Garage - Garden - fitness...</td>\n",
       "      <td>East 49th Street</td>\n",
       "      <td>[Hardwood Floors, No Fee]</td>\n",
       "      <td>low</td>\n",
       "      <td>40.7539</td>\n",
       "      <td>6888711</td>\n",
       "      <td>-73.9677</td>\n",
       "      <td>1067e078446a7897d2da493d2f741316</td>\n",
       "      <td>[https://photos.renthop.com/2/6888711_6e660cee...</td>\n",
       "      <td>3275</td>\n",
       "      <td>333 East 49th Street</td>\n",
       "    </tr>\n",
       "    <tr>\n",
       "      <th>4</th>\n",
       "      <td>100013</td>\n",
       "      <td>1.0</td>\n",
       "      <td>4</td>\n",
       "      <td>0</td>\n",
       "      <td>2016-04-28 01:32:41</td>\n",
       "      <td>Beautifully renovated 3 bedroom flex 4 bedroom...</td>\n",
       "      <td>West 143rd Street</td>\n",
       "      <td>[Pre-War]</td>\n",
       "      <td>low</td>\n",
       "      <td>40.8241</td>\n",
       "      <td>6934781</td>\n",
       "      <td>-73.9493</td>\n",
       "      <td>98e13ad4b495b9613cef886d79a6291f</td>\n",
       "      <td>[https://photos.renthop.com/2/6934781_1fa4b41a...</td>\n",
       "      <td>3350</td>\n",
       "      <td>500 West 143rd Street</td>\n",
       "    </tr>\n",
       "  </tbody>\n",
       "</table>\n",
       "</div>"
      ],
      "text/plain": [
       "    index  bathrooms  bedrooms                       building_id  \\\n",
       "0      10        1.5         3  53a5b119ba8f7b61d4e010512e0dfc85   \n",
       "1   10000        1.0         2  c5c8a357cba207596b04d1afd1e4f130   \n",
       "2  100004        1.0         1  c3ba40552e2120b0acfc3cb5730bb2aa   \n",
       "3  100007        1.0         1  28d9ad350afeaab8027513a3e52ac8d5   \n",
       "4  100013        1.0         4                                 0   \n",
       "\n",
       "               created                                        description  \\\n",
       "0  2016-06-24 07:54:24  A Brand New 3 Bedroom 1.5 bath ApartmentEnjoy ...   \n",
       "1  2016-06-12 12:19:27                                                      \n",
       "2  2016-04-17 03:26:41  Top Top West Village location, beautiful Pre-w...   \n",
       "3  2016-04-18 02:22:02  Building Amenities - Garage - Garden - fitness...   \n",
       "4  2016-04-28 01:32:41  Beautifully renovated 3 bedroom flex 4 bedroom...   \n",
       "\n",
       "       display_address                                           features  \\\n",
       "0  Metropolitan Avenue                                                 []   \n",
       "1      Columbus Avenue  [Doorman, Elevator, Fitness Center, Cats Allow...   \n",
       "2          W 13 Street  [Laundry In Building, Dishwasher, Hardwood Flo...   \n",
       "3     East 49th Street                          [Hardwood Floors, No Fee]   \n",
       "4    West 143rd Street                                          [Pre-War]   \n",
       "\n",
       "  interest_level  latitude  listing_id  longitude  \\\n",
       "0         medium   40.7145     7211212   -73.9425   \n",
       "1            low   40.7947     7150865   -73.9667   \n",
       "2           high   40.7388     6887163   -74.0018   \n",
       "3            low   40.7539     6888711   -73.9677   \n",
       "4            low   40.8241     6934781   -73.9493   \n",
       "\n",
       "                         manager_id  \\\n",
       "0  5ba989232d0489da1b5f2c45f6688adc   \n",
       "1  7533621a882f71e25173b27e3139d83d   \n",
       "2  d9039c43983f6e564b1482b273bd7b01   \n",
       "3  1067e078446a7897d2da493d2f741316   \n",
       "4  98e13ad4b495b9613cef886d79a6291f   \n",
       "\n",
       "                                              photos  price  \\\n",
       "0  [https://photos.renthop.com/2/7211212_1ed4542e...   3000   \n",
       "1  [https://photos.renthop.com/2/7150865_be3306c5...   5465   \n",
       "2  [https://photos.renthop.com/2/6887163_de85c427...   2850   \n",
       "3  [https://photos.renthop.com/2/6888711_6e660cee...   3275   \n",
       "4  [https://photos.renthop.com/2/6934781_1fa4b41a...   3350   \n",
       "\n",
       "            street_address  \n",
       "0  792 Metropolitan Avenue  \n",
       "1      808 Columbus Avenue  \n",
       "2          241 W 13 Street  \n",
       "3     333 East 49th Street  \n",
       "4    500 West 143rd Street  "
      ]
     },
     "execution_count": 5,
     "metadata": {},
     "output_type": "execute_result"
    }
   ],
   "source": [
    "df.head()"
   ]
  },
  {
   "cell_type": "markdown",
   "metadata": {},
   "source": [
    "#### List of columns"
   ]
  },
  {
   "cell_type": "code",
   "execution_count": 6,
   "metadata": {
    "collapsed": false
   },
   "outputs": [
    {
     "data": {
      "text/plain": [
       "['index',\n",
       " u'bathrooms',\n",
       " u'bedrooms',\n",
       " u'building_id',\n",
       " u'created',\n",
       " u'description',\n",
       " u'display_address',\n",
       " u'features',\n",
       " u'interest_level',\n",
       " u'latitude',\n",
       " u'listing_id',\n",
       " u'longitude',\n",
       " u'manager_id',\n",
       " u'photos',\n",
       " u'price',\n",
       " u'street_address']"
      ]
     },
     "execution_count": 6,
     "metadata": {},
     "output_type": "execute_result"
    }
   ],
   "source": [
    "list(df)"
   ]
  },
  {
   "cell_type": "markdown",
   "metadata": {},
   "source": [
    "#### Extract the 'features' column from the data and make it intoa dataframe¶"
   ]
  },
  {
   "cell_type": "code",
   "execution_count": 7,
   "metadata": {
    "collapsed": false
   },
   "outputs": [
    {
     "data": {
      "text/html": [
       "<div>\n",
       "<table border=\"1\" class=\"dataframe\">\n",
       "  <thead>\n",
       "    <tr style=\"text-align: right;\">\n",
       "      <th></th>\n",
       "      <th>features</th>\n",
       "    </tr>\n",
       "  </thead>\n",
       "  <tbody>\n",
       "    <tr>\n",
       "      <th>0</th>\n",
       "      <td>[]</td>\n",
       "    </tr>\n",
       "    <tr>\n",
       "      <th>1</th>\n",
       "      <td>[Doorman, Elevator, Fitness Center, Cats Allow...</td>\n",
       "    </tr>\n",
       "    <tr>\n",
       "      <th>2</th>\n",
       "      <td>[Laundry In Building, Dishwasher, Hardwood Flo...</td>\n",
       "    </tr>\n",
       "    <tr>\n",
       "      <th>3</th>\n",
       "      <td>[Hardwood Floors, No Fee]</td>\n",
       "    </tr>\n",
       "    <tr>\n",
       "      <th>4</th>\n",
       "      <td>[Pre-War]</td>\n",
       "    </tr>\n",
       "  </tbody>\n",
       "</table>\n",
       "</div>"
      ],
      "text/plain": [
       "                                            features\n",
       "0                                                 []\n",
       "1  [Doorman, Elevator, Fitness Center, Cats Allow...\n",
       "2  [Laundry In Building, Dishwasher, Hardwood Flo...\n",
       "3                          [Hardwood Floors, No Fee]\n",
       "4                                          [Pre-War]"
      ]
     },
     "execution_count": 7,
     "metadata": {},
     "output_type": "execute_result"
    }
   ],
   "source": [
    "dfeature=pd.DataFrame(df['features'])\n",
    "dfeature.head()"
   ]
  },
  {
   "cell_type": "markdown",
   "metadata": {},
   "source": [
    "#### In features dataframe every row contains a list of features, now let's merge all these lists into a big list"
   ]
  },
  {
   "cell_type": "code",
   "execution_count": 8,
   "metadata": {
    "collapsed": false
   },
   "outputs": [
    {
     "data": {
      "text/plain": [
       "267906"
      ]
     },
     "execution_count": 8,
     "metadata": {},
     "output_type": "execute_result"
    }
   ],
   "source": [
    "features_list=[]\n",
    "for col,col_data in dfeature.iteritems():\n",
    "    for x in col_data:\n",
    "         for ac in x:\n",
    "            features_list.append(ac) \n",
    "len(features_list)"
   ]
  },
  {
   "cell_type": "markdown",
   "metadata": {},
   "source": [
    "#### Get the top ten most frequently occured features"
   ]
  },
  {
   "cell_type": "code",
   "execution_count": 9,
   "metadata": {
    "collapsed": false
   },
   "outputs": [
    {
     "data": {
      "text/plain": [
       "[(u'Elevator', 25915),\n",
       " (u'Cats Allowed', 23540),\n",
       " (u'Hardwood Floors', 23527),\n",
       " (u'Dogs Allowed', 22035),\n",
       " (u'Doorman', 20898),\n",
       " (u'Dishwasher', 20426),\n",
       " (u'No Fee', 18062),\n",
       " (u'Laundry in Building', 16344),\n",
       " (u'Fitness Center', 13252),\n",
       " (u'Pre-War', 9148)]"
      ]
     },
     "execution_count": 9,
     "metadata": {},
     "output_type": "execute_result"
    }
   ],
   "source": [
    "from collections import Counter\n",
    "c = Counter(features_list)\n",
    "commonFeatures=c.most_common(10)\n",
    "commonFeatures"
   ]
  },
  {
   "cell_type": "markdown",
   "metadata": {},
   "source": [
    "#### Convert these top 10 features into a list"
   ]
  },
  {
   "cell_type": "code",
   "execution_count": 10,
   "metadata": {
    "collapsed": false
   },
   "outputs": [
    {
     "data": {
      "text/plain": [
       "[u'Elevator',\n",
       " u'Cats Allowed',\n",
       " u'Hardwood Floors',\n",
       " u'Dogs Allowed',\n",
       " u'Doorman',\n",
       " u'Dishwasher',\n",
       " u'No Fee',\n",
       " u'Laundry in Building',\n",
       " u'Fitness Center',\n",
       " u'Pre-War']"
      ]
     },
     "execution_count": 10,
     "metadata": {},
     "output_type": "execute_result"
    }
   ],
   "source": [
    "topFeatures=[]\n",
    "for k in commonFeatures:\n",
    "    topFeatures.append(k[0])\n",
    "topFeatures"
   ]
  },
  {
   "cell_type": "markdown",
   "metadata": {},
   "source": [
    "#### Create a pandas dataframe with topFeatures as columns"
   ]
  },
  {
   "cell_type": "code",
   "execution_count": 11,
   "metadata": {
    "collapsed": false
   },
   "outputs": [
    {
     "data": {
      "text/html": [
       "<div>\n",
       "<table border=\"1\" class=\"dataframe\">\n",
       "  <thead>\n",
       "    <tr style=\"text-align: right;\">\n",
       "      <th></th>\n",
       "      <th>Elevator</th>\n",
       "      <th>Cats Allowed</th>\n",
       "      <th>Hardwood Floors</th>\n",
       "      <th>Dogs Allowed</th>\n",
       "      <th>Doorman</th>\n",
       "      <th>Dishwasher</th>\n",
       "      <th>No Fee</th>\n",
       "      <th>Laundry in Building</th>\n",
       "      <th>Fitness Center</th>\n",
       "      <th>Pre-War</th>\n",
       "    </tr>\n",
       "  </thead>\n",
       "  <tbody>\n",
       "  </tbody>\n",
       "</table>\n",
       "</div>"
      ],
      "text/plain": [
       "Empty DataFrame\n",
       "Columns: [Elevator, Cats Allowed, Hardwood Floors, Dogs Allowed, Doorman, Dishwasher, No Fee, Laundry in Building, Fitness Center, Pre-War]\n",
       "Index: []"
      ]
     },
     "execution_count": 11,
     "metadata": {},
     "output_type": "execute_result"
    }
   ],
   "source": [
    "dFeatures_table=pd.DataFrame(columns=topFeatures)\n",
    "dFeatures_table"
   ]
  },
  {
   "cell_type": "markdown",
   "metadata": {},
   "source": [
    "#### Now add values to this dFeatures_table dataframe, if you find any top 10 features in the row (list) of dfeature dataframe, add 1 to the corresponding column feature else add 0"
   ]
  },
  {
   "cell_type": "code",
   "execution_count": 12,
   "metadata": {
    "collapsed": true
   },
   "outputs": [],
   "source": [
    "for col,col_data in dfeature.iteritems():\n",
    "    for x in col_data:\n",
    "        ls=[0,0,0,0,0,0,0,0,0,0]\n",
    "        for ac in x:\n",
    "            if ac=='Elevator':\n",
    "                ls[0]=1\n",
    "            elif ac=='Cats Allowed':\n",
    "                ls[1]=1\n",
    "            elif ac=='Hardwood Floors':\n",
    "                ls[2]=1\n",
    "            elif ac=='Dogs Allowed':\n",
    "                ls[3]=1\n",
    "            elif ac=='Doorman':\n",
    "                ls[4]=1\n",
    "            elif ac=='Dishwasher':\n",
    "                ls[5]=1\n",
    "            elif ac=='No Fee':\n",
    "                ls[6]=1\n",
    "            elif ac=='Laundry in Building':\n",
    "                ls[7]=1\n",
    "            elif ac=='Fitness Center':\n",
    "                ls[8]=1\n",
    "            elif ac=='Pre-War':\n",
    "                ls[9]=1\n",
    "\n",
    "            \n",
    "                \n",
    "        tempDF=pd.DataFrame(np.array([[ls[0],ls[1],ls[2],ls[3],ls[4],ls[5],ls[6],ls[7],ls[8],ls[9]]]),columns=topFeatures)\n",
    "        dFeatures_table=pd.concat([dFeatures_table,tempDF],ignore_index=True)\n",
    "                "
   ]
  },
  {
   "cell_type": "markdown",
   "metadata": {},
   "source": [
    "#### Display the dFeatures_table after adding the values"
   ]
  },
  {
   "cell_type": "code",
   "execution_count": 13,
   "metadata": {
    "collapsed": false
   },
   "outputs": [
    {
     "data": {
      "text/html": [
       "<div>\n",
       "<table border=\"1\" class=\"dataframe\">\n",
       "  <thead>\n",
       "    <tr style=\"text-align: right;\">\n",
       "      <th></th>\n",
       "      <th>Elevator</th>\n",
       "      <th>Cats Allowed</th>\n",
       "      <th>Hardwood Floors</th>\n",
       "      <th>Dogs Allowed</th>\n",
       "      <th>Doorman</th>\n",
       "      <th>Dishwasher</th>\n",
       "      <th>No Fee</th>\n",
       "      <th>Laundry in Building</th>\n",
       "      <th>Fitness Center</th>\n",
       "      <th>Pre-War</th>\n",
       "    </tr>\n",
       "  </thead>\n",
       "  <tbody>\n",
       "    <tr>\n",
       "      <th>49347</th>\n",
       "      <td>1.0</td>\n",
       "      <td>0.0</td>\n",
       "      <td>1.0</td>\n",
       "      <td>0.0</td>\n",
       "      <td>0.0</td>\n",
       "      <td>1.0</td>\n",
       "      <td>1.0</td>\n",
       "      <td>1.0</td>\n",
       "      <td>0.0</td>\n",
       "      <td>0.0</td>\n",
       "    </tr>\n",
       "    <tr>\n",
       "      <th>49348</th>\n",
       "      <td>1.0</td>\n",
       "      <td>1.0</td>\n",
       "      <td>0.0</td>\n",
       "      <td>1.0</td>\n",
       "      <td>1.0</td>\n",
       "      <td>0.0</td>\n",
       "      <td>0.0</td>\n",
       "      <td>0.0</td>\n",
       "      <td>1.0</td>\n",
       "      <td>0.0</td>\n",
       "    </tr>\n",
       "    <tr>\n",
       "      <th>49349</th>\n",
       "      <td>1.0</td>\n",
       "      <td>1.0</td>\n",
       "      <td>0.0</td>\n",
       "      <td>1.0</td>\n",
       "      <td>1.0</td>\n",
       "      <td>0.0</td>\n",
       "      <td>0.0</td>\n",
       "      <td>0.0</td>\n",
       "      <td>0.0</td>\n",
       "      <td>1.0</td>\n",
       "    </tr>\n",
       "    <tr>\n",
       "      <th>49350</th>\n",
       "      <td>1.0</td>\n",
       "      <td>1.0</td>\n",
       "      <td>0.0</td>\n",
       "      <td>1.0</td>\n",
       "      <td>1.0</td>\n",
       "      <td>0.0</td>\n",
       "      <td>0.0</td>\n",
       "      <td>0.0</td>\n",
       "      <td>0.0</td>\n",
       "      <td>1.0</td>\n",
       "    </tr>\n",
       "    <tr>\n",
       "      <th>49351</th>\n",
       "      <td>0.0</td>\n",
       "      <td>0.0</td>\n",
       "      <td>1.0</td>\n",
       "      <td>0.0</td>\n",
       "      <td>0.0</td>\n",
       "      <td>0.0</td>\n",
       "      <td>0.0</td>\n",
       "      <td>0.0</td>\n",
       "      <td>0.0</td>\n",
       "      <td>0.0</td>\n",
       "    </tr>\n",
       "  </tbody>\n",
       "</table>\n",
       "</div>"
      ],
      "text/plain": [
       "       Elevator  Cats Allowed  Hardwood Floors  Dogs Allowed  Doorman  \\\n",
       "49347       1.0           0.0              1.0           0.0      0.0   \n",
       "49348       1.0           1.0              0.0           1.0      1.0   \n",
       "49349       1.0           1.0              0.0           1.0      1.0   \n",
       "49350       1.0           1.0              0.0           1.0      1.0   \n",
       "49351       0.0           0.0              1.0           0.0      0.0   \n",
       "\n",
       "       Dishwasher  No Fee  Laundry in Building  Fitness Center  Pre-War  \n",
       "49347         1.0     1.0                  1.0             0.0      0.0  \n",
       "49348         0.0     0.0                  0.0             1.0      0.0  \n",
       "49349         0.0     0.0                  0.0             0.0      1.0  \n",
       "49350         0.0     0.0                  0.0             0.0      1.0  \n",
       "49351         0.0     0.0                  0.0             0.0      0.0  "
      ]
     },
     "execution_count": 13,
     "metadata": {},
     "output_type": "execute_result"
    }
   ],
   "source": [
    "dFeatures_table.tail()"
   ]
  },
  {
   "cell_type": "markdown",
   "metadata": {},
   "source": [
    "#### Now let's view at the decription and take the best 5 features which can change the interest level using our domain knowledge"
   ]
  },
  {
   "cell_type": "code",
   "execution_count": 14,
   "metadata": {
    "collapsed": true
   },
   "outputs": [],
   "source": [
    "import nltk\n",
    "from nltk.tokenize import word_tokenize,sent_tokenize\n",
    "from nltk.corpus import stopwords\n",
    "from string import punctuation"
   ]
  },
  {
   "cell_type": "code",
   "execution_count": 15,
   "metadata": {
    "collapsed": false
   },
   "outputs": [
    {
     "data": {
      "text/html": [
       "<div>\n",
       "<table border=\"1\" class=\"dataframe\">\n",
       "  <thead>\n",
       "    <tr style=\"text-align: right;\">\n",
       "      <th></th>\n",
       "      <th>description</th>\n",
       "    </tr>\n",
       "  </thead>\n",
       "  <tbody>\n",
       "    <tr>\n",
       "      <th>0</th>\n",
       "      <td>A Brand New 3 Bedroom 1.5 bath ApartmentEnjoy ...</td>\n",
       "    </tr>\n",
       "    <tr>\n",
       "      <th>1</th>\n",
       "      <td></td>\n",
       "    </tr>\n",
       "    <tr>\n",
       "      <th>2</th>\n",
       "      <td>Top Top West Village location, beautiful Pre-w...</td>\n",
       "    </tr>\n",
       "    <tr>\n",
       "      <th>3</th>\n",
       "      <td>Building Amenities - Garage - Garden - fitness...</td>\n",
       "    </tr>\n",
       "    <tr>\n",
       "      <th>4</th>\n",
       "      <td>Beautifully renovated 3 bedroom flex 4 bedroom...</td>\n",
       "    </tr>\n",
       "  </tbody>\n",
       "</table>\n",
       "</div>"
      ],
      "text/plain": [
       "                                         description\n",
       "0  A Brand New 3 Bedroom 1.5 bath ApartmentEnjoy ...\n",
       "1                                                   \n",
       "2  Top Top West Village location, beautiful Pre-w...\n",
       "3  Building Amenities - Garage - Garden - fitness...\n",
       "4  Beautifully renovated 3 bedroom flex 4 bedroom..."
      ]
     },
     "execution_count": 15,
     "metadata": {},
     "output_type": "execute_result"
    }
   ],
   "source": [
    "dDesc=pd.DataFrame(df['description'])\n",
    "dDesc.head()"
   ]
  },
  {
   "cell_type": "code",
   "execution_count": 16,
   "metadata": {
    "collapsed": false
   },
   "outputs": [],
   "source": [
    "act_data=''\n",
    "for col,col_data in dDesc.iteritems():\n",
    "    for x in col_data:\n",
    "        act_data+=x"
   ]
  },
  {
   "cell_type": "code",
   "execution_count": 17,
   "metadata": {
    "collapsed": false
   },
   "outputs": [],
   "source": [
    "import re\n",
    "act_data = re.compile(r'<.*?>').sub('', act_data)"
   ]
  },
  {
   "cell_type": "code",
   "execution_count": 18,
   "metadata": {
    "collapsed": true
   },
   "outputs": [],
   "source": [
    "from nltk.stem.lancaster import LancasterStemmer as ls\n"
   ]
  },
  {
   "cell_type": "code",
   "execution_count": 19,
   "metadata": {
    "collapsed": true
   },
   "outputs": [],
   "source": [
    "custStopWords=set(stopwords.words('english')+list(punctuation))"
   ]
  },
  {
   "cell_type": "code",
   "execution_count": 20,
   "metadata": {
    "collapsed": true
   },
   "outputs": [],
   "source": [
    "wordlist=[]\n",
    "for word in word_tokenize(act_data):\n",
    "    if len(word)<3:\n",
    "        continue;\n",
    "    elif word in custStopWords:\n",
    "        continue;\n",
    "    else:\n",
    "        wordlist.append(word.encode('utf8'))\n",
    "#ls().stem(word)"
   ]
  },
  {
   "cell_type": "code",
   "execution_count": 21,
   "metadata": {
    "collapsed": false
   },
   "outputs": [
    {
     "data": {
      "text/plain": [
       "[('kagglemanager', 12000),\n",
       " ('apartment', 9119),\n",
       " ('New', 8299),\n",
       " ('York', 7237),\n",
       " ('building', 7125),\n",
       " ('kitchen', 6044),\n",
       " ('AND', 5834),\n",
       " ('real', 5671),\n",
       " ('broker', 5631),\n",
       " ('The', 5571),\n",
       " ('estate', 5566),\n",
       " ('housing', 5405),\n",
       " ('equal', 5378),\n",
       " ('supports', 5344),\n",
       " ('renthop.com', 5249),\n",
       " ('room', 4966),\n",
       " ('email', 4730),\n",
       " ('bedroom', 4658),\n",
       " ('THE', 4353),\n",
       " ('appliances', 4207),\n",
       " ('space', 4081),\n",
       " ('floors', 4024),\n",
       " ('WITH', 3969),\n",
       " ('This', 3773),\n",
       " ('contact', 3716),\n",
       " ('call', 3624),\n",
       " ('steel', 3622),\n",
       " ('features', 3560),\n",
       " ('viewing', 3492),\n",
       " ('living', 3403),\n",
       " ('new', 3367),\n",
       " ('stainless', 3365),\n",
       " ('FOR', 3329),\n",
       " ('restaurants', 3326),\n",
       " ('private', 3270),\n",
       " ('unit', 3157),\n",
       " ('hardwood', 3112),\n",
       " ('windows', 3094),\n",
       " ('information', 3075),\n",
       " ('great', 3050),\n",
       " ('Park', 2831),\n",
       " ('schedule', 2761),\n",
       " ('renovated', 2721),\n",
       " ('large', 2695),\n",
       " ('laundry', 2651),\n",
       " ('FEE', 2612),\n",
       " ('located', 2563),\n",
       " ('marble', 2560),\n",
       " ('bathroom', 2547),\n",
       " ('one', 2506),\n",
       " ('area', 2494),\n",
       " ('view', 2474),\n",
       " ('granite', 2472),\n",
       " ('CONTACT', 2463),\n",
       " ('access', 2452),\n",
       " ('closet', 2447),\n",
       " ('YOU', 2402),\n",
       " ('including', 2398),\n",
       " ('views', 2384),\n",
       " ('text', 2292),\n",
       " ('home', 2283),\n",
       " ('today', 2250),\n",
       " ('THIS', 2225),\n",
       " ('high', 2206),\n",
       " ('floor', 2202),\n",
       " ('doorman', 2195),\n",
       " ('Call', 2183),\n",
       " ('full', 2176),\n",
       " ('free', 2173),\n",
       " ('CALL', 2140)]"
      ]
     },
     "execution_count": 21,
     "metadata": {},
     "output_type": "execute_result"
    }
   ],
   "source": [
    "from collections import Counter\n",
    "c = Counter(wordlist)\n",
    "commonFeatures=c.most_common(70)\n",
    "commonFeatures"
   ]
  },
  {
   "cell_type": "code",
   "execution_count": 22,
   "metadata": {
    "collapsed": false
   },
   "outputs": [
    {
     "data": {
      "text/html": [
       "<div>\n",
       "<table border=\"1\" class=\"dataframe\">\n",
       "  <thead>\n",
       "    <tr style=\"text-align: right;\">\n",
       "      <th></th>\n",
       "      <th>new</th>\n",
       "      <th>park</th>\n",
       "      <th>renovated</th>\n",
       "      <th>pool</th>\n",
       "      <th>loft</th>\n",
       "      <th>restaurants</th>\n",
       "      <th>marble</th>\n",
       "    </tr>\n",
       "  </thead>\n",
       "  <tbody>\n",
       "  </tbody>\n",
       "</table>\n",
       "</div>"
      ],
      "text/plain": [
       "Empty DataFrame\n",
       "Columns: [new, park, renovated, pool, loft, restaurants, marble]\n",
       "Index: []"
      ]
     },
     "execution_count": 22,
     "metadata": {},
     "output_type": "execute_result"
    }
   ],
   "source": [
    "topLabels=['new','park','renovated','pool','loft','restaurants','marble']\n",
    "dDescribe_table=pd.DataFrame(columns=topLabels)\n",
    "dDescribe_table"
   ]
  },
  {
   "cell_type": "code",
   "execution_count": 23,
   "metadata": {
    "collapsed": true
   },
   "outputs": [],
   "source": [
    "for col,col_data in dDesc.iteritems():\n",
    "    for x in col_data:\n",
    "        ls=[0,0,0,0,0,0,0]\n",
    "        if 'new' in x:\n",
    "            ls[0]=1\n",
    "\n",
    "        if 'park' in x or 'Park' in x:\n",
    "            ls[1]=1\n",
    "\n",
    "        if 'renovated' in x or 'Renovated' in x:\n",
    "             ls[2]=1\n",
    "\n",
    "        if 'pool' in x or 'SwimmingPool' in x:\n",
    "             ls[3]=1\n",
    "\n",
    "        if 'loft' in x or 'Loft' in x:\n",
    "             ls[4]=1\n",
    "                \n",
    "        if 'restaurants' in x or 'Restaurants' in x:\n",
    "             ls[5]=1\n",
    "                \n",
    "        if 'marble' in x or 'Marble' in x:\n",
    "             ls[6]=1\n",
    "\n",
    "            \n",
    "        tempDF=pd.DataFrame(np.array([[ls[0],ls[1],ls[2],ls[3],ls[4],ls[5],ls[6]]]),columns=topLabels)\n",
    "        dDescribe_table=pd.concat([dDescribe_table,tempDF],ignore_index=True)"
   ]
  },
  {
   "cell_type": "code",
   "execution_count": 24,
   "metadata": {
    "collapsed": false
   },
   "outputs": [
    {
     "data": {
      "text/html": [
       "<div>\n",
       "<table border=\"1\" class=\"dataframe\">\n",
       "  <thead>\n",
       "    <tr style=\"text-align: right;\">\n",
       "      <th></th>\n",
       "      <th>new</th>\n",
       "      <th>park</th>\n",
       "      <th>renovated</th>\n",
       "      <th>pool</th>\n",
       "      <th>loft</th>\n",
       "      <th>restaurants</th>\n",
       "      <th>marble</th>\n",
       "    </tr>\n",
       "  </thead>\n",
       "  <tbody>\n",
       "    <tr>\n",
       "      <th>0</th>\n",
       "      <td>0.0</td>\n",
       "      <td>0.0</td>\n",
       "      <td>0.0</td>\n",
       "      <td>0.0</td>\n",
       "      <td>0.0</td>\n",
       "      <td>0.0</td>\n",
       "      <td>0.0</td>\n",
       "    </tr>\n",
       "    <tr>\n",
       "      <th>1</th>\n",
       "      <td>0.0</td>\n",
       "      <td>0.0</td>\n",
       "      <td>0.0</td>\n",
       "      <td>0.0</td>\n",
       "      <td>0.0</td>\n",
       "      <td>0.0</td>\n",
       "      <td>0.0</td>\n",
       "    </tr>\n",
       "    <tr>\n",
       "      <th>2</th>\n",
       "      <td>0.0</td>\n",
       "      <td>0.0</td>\n",
       "      <td>0.0</td>\n",
       "      <td>0.0</td>\n",
       "      <td>0.0</td>\n",
       "      <td>1.0</td>\n",
       "      <td>1.0</td>\n",
       "    </tr>\n",
       "    <tr>\n",
       "      <th>3</th>\n",
       "      <td>0.0</td>\n",
       "      <td>0.0</td>\n",
       "      <td>1.0</td>\n",
       "      <td>0.0</td>\n",
       "      <td>0.0</td>\n",
       "      <td>1.0</td>\n",
       "      <td>1.0</td>\n",
       "    </tr>\n",
       "    <tr>\n",
       "      <th>4</th>\n",
       "      <td>0.0</td>\n",
       "      <td>0.0</td>\n",
       "      <td>1.0</td>\n",
       "      <td>0.0</td>\n",
       "      <td>0.0</td>\n",
       "      <td>0.0</td>\n",
       "      <td>0.0</td>\n",
       "    </tr>\n",
       "  </tbody>\n",
       "</table>\n",
       "</div>"
      ],
      "text/plain": [
       "   new  park  renovated  pool  loft  restaurants  marble\n",
       "0  0.0   0.0        0.0   0.0   0.0          0.0     0.0\n",
       "1  0.0   0.0        0.0   0.0   0.0          0.0     0.0\n",
       "2  0.0   0.0        0.0   0.0   0.0          1.0     1.0\n",
       "3  0.0   0.0        1.0   0.0   0.0          1.0     1.0\n",
       "4  0.0   0.0        1.0   0.0   0.0          0.0     0.0"
      ]
     },
     "execution_count": 24,
     "metadata": {},
     "output_type": "execute_result"
    }
   ],
   "source": [
    "dDescribe_table.head()"
   ]
  },
  {
   "cell_type": "markdown",
   "metadata": {},
   "source": [
    "#### Concat this description dataframe with the features dataframe"
   ]
  },
  {
   "cell_type": "code",
   "execution_count": 25,
   "metadata": {
    "collapsed": false
   },
   "outputs": [
    {
     "data": {
      "text/html": [
       "<div>\n",
       "<table border=\"1\" class=\"dataframe\">\n",
       "  <thead>\n",
       "    <tr style=\"text-align: right;\">\n",
       "      <th></th>\n",
       "      <th>Elevator</th>\n",
       "      <th>Cats Allowed</th>\n",
       "      <th>Hardwood Floors</th>\n",
       "      <th>Dogs Allowed</th>\n",
       "      <th>Doorman</th>\n",
       "      <th>Dishwasher</th>\n",
       "      <th>No Fee</th>\n",
       "      <th>Laundry in Building</th>\n",
       "      <th>Fitness Center</th>\n",
       "      <th>Pre-War</th>\n",
       "      <th>new</th>\n",
       "      <th>park</th>\n",
       "      <th>renovated</th>\n",
       "      <th>pool</th>\n",
       "      <th>loft</th>\n",
       "      <th>restaurants</th>\n",
       "      <th>marble</th>\n",
       "    </tr>\n",
       "  </thead>\n",
       "  <tbody>\n",
       "    <tr>\n",
       "      <th>0</th>\n",
       "      <td>0.0</td>\n",
       "      <td>0.0</td>\n",
       "      <td>0.0</td>\n",
       "      <td>0.0</td>\n",
       "      <td>0.0</td>\n",
       "      <td>0.0</td>\n",
       "      <td>0.0</td>\n",
       "      <td>0.0</td>\n",
       "      <td>0.0</td>\n",
       "      <td>0.0</td>\n",
       "      <td>0.0</td>\n",
       "      <td>0.0</td>\n",
       "      <td>0.0</td>\n",
       "      <td>0.0</td>\n",
       "      <td>0.0</td>\n",
       "      <td>0.0</td>\n",
       "      <td>0.0</td>\n",
       "    </tr>\n",
       "    <tr>\n",
       "      <th>1</th>\n",
       "      <td>1.0</td>\n",
       "      <td>1.0</td>\n",
       "      <td>0.0</td>\n",
       "      <td>1.0</td>\n",
       "      <td>1.0</td>\n",
       "      <td>0.0</td>\n",
       "      <td>0.0</td>\n",
       "      <td>0.0</td>\n",
       "      <td>1.0</td>\n",
       "      <td>0.0</td>\n",
       "      <td>0.0</td>\n",
       "      <td>0.0</td>\n",
       "      <td>0.0</td>\n",
       "      <td>0.0</td>\n",
       "      <td>0.0</td>\n",
       "      <td>0.0</td>\n",
       "      <td>0.0</td>\n",
       "    </tr>\n",
       "    <tr>\n",
       "      <th>2</th>\n",
       "      <td>0.0</td>\n",
       "      <td>0.0</td>\n",
       "      <td>1.0</td>\n",
       "      <td>0.0</td>\n",
       "      <td>0.0</td>\n",
       "      <td>1.0</td>\n",
       "      <td>0.0</td>\n",
       "      <td>0.0</td>\n",
       "      <td>0.0</td>\n",
       "      <td>0.0</td>\n",
       "      <td>0.0</td>\n",
       "      <td>0.0</td>\n",
       "      <td>0.0</td>\n",
       "      <td>0.0</td>\n",
       "      <td>0.0</td>\n",
       "      <td>1.0</td>\n",
       "      <td>1.0</td>\n",
       "    </tr>\n",
       "    <tr>\n",
       "      <th>3</th>\n",
       "      <td>0.0</td>\n",
       "      <td>0.0</td>\n",
       "      <td>1.0</td>\n",
       "      <td>0.0</td>\n",
       "      <td>0.0</td>\n",
       "      <td>0.0</td>\n",
       "      <td>1.0</td>\n",
       "      <td>0.0</td>\n",
       "      <td>0.0</td>\n",
       "      <td>0.0</td>\n",
       "      <td>0.0</td>\n",
       "      <td>0.0</td>\n",
       "      <td>1.0</td>\n",
       "      <td>0.0</td>\n",
       "      <td>0.0</td>\n",
       "      <td>1.0</td>\n",
       "      <td>1.0</td>\n",
       "    </tr>\n",
       "    <tr>\n",
       "      <th>4</th>\n",
       "      <td>0.0</td>\n",
       "      <td>0.0</td>\n",
       "      <td>0.0</td>\n",
       "      <td>0.0</td>\n",
       "      <td>0.0</td>\n",
       "      <td>0.0</td>\n",
       "      <td>0.0</td>\n",
       "      <td>0.0</td>\n",
       "      <td>0.0</td>\n",
       "      <td>1.0</td>\n",
       "      <td>0.0</td>\n",
       "      <td>0.0</td>\n",
       "      <td>1.0</td>\n",
       "      <td>0.0</td>\n",
       "      <td>0.0</td>\n",
       "      <td>0.0</td>\n",
       "      <td>0.0</td>\n",
       "    </tr>\n",
       "  </tbody>\n",
       "</table>\n",
       "</div>"
      ],
      "text/plain": [
       "   Elevator  Cats Allowed  Hardwood Floors  Dogs Allowed  Doorman  Dishwasher  \\\n",
       "0       0.0           0.0              0.0           0.0      0.0         0.0   \n",
       "1       1.0           1.0              0.0           1.0      1.0         0.0   \n",
       "2       0.0           0.0              1.0           0.0      0.0         1.0   \n",
       "3       0.0           0.0              1.0           0.0      0.0         0.0   \n",
       "4       0.0           0.0              0.0           0.0      0.0         0.0   \n",
       "\n",
       "   No Fee  Laundry in Building  Fitness Center  Pre-War  new  park  renovated  \\\n",
       "0     0.0                  0.0             0.0      0.0  0.0   0.0        0.0   \n",
       "1     0.0                  0.0             1.0      0.0  0.0   0.0        0.0   \n",
       "2     0.0                  0.0             0.0      0.0  0.0   0.0        0.0   \n",
       "3     1.0                  0.0             0.0      0.0  0.0   0.0        1.0   \n",
       "4     0.0                  0.0             0.0      1.0  0.0   0.0        1.0   \n",
       "\n",
       "   pool  loft  restaurants  marble  \n",
       "0   0.0   0.0          0.0     0.0  \n",
       "1   0.0   0.0          0.0     0.0  \n",
       "2   0.0   0.0          1.0     1.0  \n",
       "3   0.0   0.0          1.0     1.0  \n",
       "4   0.0   0.0          0.0     0.0  "
      ]
     },
     "execution_count": 25,
     "metadata": {},
     "output_type": "execute_result"
    }
   ],
   "source": [
    "dFeatures_table = pd.concat([dFeatures_table,dDescribe_table], axis=1, join_axes=[dFeatures_table.index])\n",
    "dFeatures_table.head()"
   ]
  },
  {
   "cell_type": "markdown",
   "metadata": {},
   "source": [
    "#### Concat this features+description table with our actual main dataframe"
   ]
  },
  {
   "cell_type": "code",
   "execution_count": 26,
   "metadata": {
    "collapsed": false
   },
   "outputs": [
    {
     "data": {
      "text/html": [
       "<div>\n",
       "<table border=\"1\" class=\"dataframe\">\n",
       "  <thead>\n",
       "    <tr style=\"text-align: right;\">\n",
       "      <th></th>\n",
       "      <th>index</th>\n",
       "      <th>bathrooms</th>\n",
       "      <th>bedrooms</th>\n",
       "      <th>building_id</th>\n",
       "      <th>created</th>\n",
       "      <th>description</th>\n",
       "      <th>display_address</th>\n",
       "      <th>features</th>\n",
       "      <th>interest_level</th>\n",
       "      <th>latitude</th>\n",
       "      <th>...</th>\n",
       "      <th>Laundry in Building</th>\n",
       "      <th>Fitness Center</th>\n",
       "      <th>Pre-War</th>\n",
       "      <th>new</th>\n",
       "      <th>park</th>\n",
       "      <th>renovated</th>\n",
       "      <th>pool</th>\n",
       "      <th>loft</th>\n",
       "      <th>restaurants</th>\n",
       "      <th>marble</th>\n",
       "    </tr>\n",
       "  </thead>\n",
       "  <tbody>\n",
       "    <tr>\n",
       "      <th>49347</th>\n",
       "      <td>9999</td>\n",
       "      <td>1.0</td>\n",
       "      <td>2</td>\n",
       "      <td>297160caf8a88c10718b492d4672c6b4</td>\n",
       "      <td>2016-06-02 05:41:05</td>\n",
       "      <td>30TH/3RD, MASSIVE CONV 2BR IN LUXURY FULL SERV...</td>\n",
       "      <td>E 30 St</td>\n",
       "      <td>[Elevator, Laundry in Building, Laundry in Uni...</td>\n",
       "      <td>medium</td>\n",
       "      <td>40.7426</td>\n",
       "      <td>...</td>\n",
       "      <td>1.0</td>\n",
       "      <td>0.0</td>\n",
       "      <td>0.0</td>\n",
       "      <td>1.0</td>\n",
       "      <td>0.0</td>\n",
       "      <td>1.0</td>\n",
       "      <td>0.0</td>\n",
       "      <td>0.0</td>\n",
       "      <td>0.0</td>\n",
       "      <td>1.0</td>\n",
       "    </tr>\n",
       "    <tr>\n",
       "      <th>49348</th>\n",
       "      <td>99991</td>\n",
       "      <td>1.0</td>\n",
       "      <td>1</td>\n",
       "      <td>9e871ccfea7b07686c101548ca693af6</td>\n",
       "      <td>2016-04-04 18:22:34</td>\n",
       "      <td>HIGH END condo finishes, swimming pool, and ki...</td>\n",
       "      <td>Rector Pl</td>\n",
       "      <td>[Common Outdoor Space, Cats Allowed, Dogs Allo...</td>\n",
       "      <td>low</td>\n",
       "      <td>40.7102</td>\n",
       "      <td>...</td>\n",
       "      <td>0.0</td>\n",
       "      <td>1.0</td>\n",
       "      <td>0.0</td>\n",
       "      <td>1.0</td>\n",
       "      <td>1.0</td>\n",
       "      <td>1.0</td>\n",
       "      <td>1.0</td>\n",
       "      <td>0.0</td>\n",
       "      <td>0.0</td>\n",
       "      <td>0.0</td>\n",
       "    </tr>\n",
       "    <tr>\n",
       "      <th>49349</th>\n",
       "      <td>99992</td>\n",
       "      <td>1.0</td>\n",
       "      <td>1</td>\n",
       "      <td>7967a1280bf3f7644500fc79d2696b0e</td>\n",
       "      <td>2016-04-16 02:13:40</td>\n",
       "      <td>Large Renovated One Bedroom Apartment with Sta...</td>\n",
       "      <td>West 45th Street</td>\n",
       "      <td>[Doorman, Elevator, Pre-War, Dogs Allowed, Cat...</td>\n",
       "      <td>low</td>\n",
       "      <td>40.7601</td>\n",
       "      <td>...</td>\n",
       "      <td>0.0</td>\n",
       "      <td>0.0</td>\n",
       "      <td>1.0</td>\n",
       "      <td>0.0</td>\n",
       "      <td>0.0</td>\n",
       "      <td>1.0</td>\n",
       "      <td>0.0</td>\n",
       "      <td>0.0</td>\n",
       "      <td>0.0</td>\n",
       "      <td>1.0</td>\n",
       "    </tr>\n",
       "    <tr>\n",
       "      <th>49350</th>\n",
       "      <td>99993</td>\n",
       "      <td>1.0</td>\n",
       "      <td>0</td>\n",
       "      <td>ad67f6181a49bde19218929b401b31b7</td>\n",
       "      <td>2016-04-08 02:13:33</td>\n",
       "      <td>Stylishly sleek studio apartment with unsurpas...</td>\n",
       "      <td>Wall Street</td>\n",
       "      <td>[Doorman, Elevator, Pre-War, Dogs Allowed, Cat...</td>\n",
       "      <td>low</td>\n",
       "      <td>40.7066</td>\n",
       "      <td>...</td>\n",
       "      <td>0.0</td>\n",
       "      <td>0.0</td>\n",
       "      <td>1.0</td>\n",
       "      <td>0.0</td>\n",
       "      <td>0.0</td>\n",
       "      <td>0.0</td>\n",
       "      <td>0.0</td>\n",
       "      <td>0.0</td>\n",
       "      <td>0.0</td>\n",
       "      <td>0.0</td>\n",
       "    </tr>\n",
       "    <tr>\n",
       "      <th>49351</th>\n",
       "      <td>99994</td>\n",
       "      <td>1.0</td>\n",
       "      <td>2</td>\n",
       "      <td>5173052db6efc0caaa4d817112a70f32</td>\n",
       "      <td>2016-04-12 02:48:07</td>\n",
       "      <td>Look no further!!!  This giant 2 bedroom apart...</td>\n",
       "      <td>Park Terrace East</td>\n",
       "      <td>[Hardwood Floors]</td>\n",
       "      <td>low</td>\n",
       "      <td>40.8699</td>\n",
       "      <td>...</td>\n",
       "      <td>0.0</td>\n",
       "      <td>0.0</td>\n",
       "      <td>0.0</td>\n",
       "      <td>1.0</td>\n",
       "      <td>0.0</td>\n",
       "      <td>1.0</td>\n",
       "      <td>0.0</td>\n",
       "      <td>0.0</td>\n",
       "      <td>0.0</td>\n",
       "      <td>0.0</td>\n",
       "    </tr>\n",
       "  </tbody>\n",
       "</table>\n",
       "<p>5 rows × 33 columns</p>\n",
       "</div>"
      ],
      "text/plain": [
       "       index  bathrooms  bedrooms                       building_id  \\\n",
       "49347   9999        1.0         2  297160caf8a88c10718b492d4672c6b4   \n",
       "49348  99991        1.0         1  9e871ccfea7b07686c101548ca693af6   \n",
       "49349  99992        1.0         1  7967a1280bf3f7644500fc79d2696b0e   \n",
       "49350  99993        1.0         0  ad67f6181a49bde19218929b401b31b7   \n",
       "49351  99994        1.0         2  5173052db6efc0caaa4d817112a70f32   \n",
       "\n",
       "                   created                                        description  \\\n",
       "49347  2016-06-02 05:41:05  30TH/3RD, MASSIVE CONV 2BR IN LUXURY FULL SERV...   \n",
       "49348  2016-04-04 18:22:34  HIGH END condo finishes, swimming pool, and ki...   \n",
       "49349  2016-04-16 02:13:40  Large Renovated One Bedroom Apartment with Sta...   \n",
       "49350  2016-04-08 02:13:33  Stylishly sleek studio apartment with unsurpas...   \n",
       "49351  2016-04-12 02:48:07  Look no further!!!  This giant 2 bedroom apart...   \n",
       "\n",
       "         display_address                                           features  \\\n",
       "49347            E 30 St  [Elevator, Laundry in Building, Laundry in Uni...   \n",
       "49348          Rector Pl  [Common Outdoor Space, Cats Allowed, Dogs Allo...   \n",
       "49349   West 45th Street  [Doorman, Elevator, Pre-War, Dogs Allowed, Cat...   \n",
       "49350        Wall Street  [Doorman, Elevator, Pre-War, Dogs Allowed, Cat...   \n",
       "49351  Park Terrace East                                  [Hardwood Floors]   \n",
       "\n",
       "      interest_level  latitude   ...    Laundry in Building  Fitness Center  \\\n",
       "49347         medium   40.7426   ...                    1.0             0.0   \n",
       "49348            low   40.7102   ...                    0.0             1.0   \n",
       "49349            low   40.7601   ...                    0.0             0.0   \n",
       "49350            low   40.7066   ...                    0.0             0.0   \n",
       "49351            low   40.8699   ...                    0.0             0.0   \n",
       "\n",
       "      Pre-War  new  park renovated  pool  loft  restaurants  marble  \n",
       "49347     0.0  1.0   0.0       1.0   0.0   0.0          0.0     1.0  \n",
       "49348     0.0  1.0   1.0       1.0   1.0   0.0          0.0     0.0  \n",
       "49349     1.0  0.0   0.0       1.0   0.0   0.0          0.0     1.0  \n",
       "49350     1.0  0.0   0.0       0.0   0.0   0.0          0.0     0.0  \n",
       "49351     0.0  1.0   0.0       1.0   0.0   0.0          0.0     0.0  \n",
       "\n",
       "[5 rows x 33 columns]"
      ]
     },
     "execution_count": 26,
     "metadata": {},
     "output_type": "execute_result"
    }
   ],
   "source": [
    "resFrame = pd.concat([df, dFeatures_table], axis=1, join_axes=[df.index])\n",
    "resFrame.tail()"
   ]
  },
  {
   "cell_type": "markdown",
   "metadata": {},
   "source": [
    "#### Convert the labeled Y column (target column) into numerical  "
   ]
  },
  {
   "cell_type": "code",
   "execution_count": 27,
   "metadata": {
    "collapsed": false
   },
   "outputs": [
    {
     "data": {
      "text/html": [
       "<div>\n",
       "<table border=\"1\" class=\"dataframe\">\n",
       "  <thead>\n",
       "    <tr style=\"text-align: right;\">\n",
       "      <th></th>\n",
       "      <th>interest_level</th>\n",
       "    </tr>\n",
       "  </thead>\n",
       "  <tbody>\n",
       "    <tr>\n",
       "      <th>0</th>\n",
       "      <td>1</td>\n",
       "    </tr>\n",
       "    <tr>\n",
       "      <th>1</th>\n",
       "      <td>0</td>\n",
       "    </tr>\n",
       "    <tr>\n",
       "      <th>2</th>\n",
       "      <td>2</td>\n",
       "    </tr>\n",
       "    <tr>\n",
       "      <th>3</th>\n",
       "      <td>0</td>\n",
       "    </tr>\n",
       "    <tr>\n",
       "      <th>4</th>\n",
       "      <td>0</td>\n",
       "    </tr>\n",
       "  </tbody>\n",
       "</table>\n",
       "</div>"
      ],
      "text/plain": [
       "   interest_level\n",
       "0               1\n",
       "1               0\n",
       "2               2\n",
       "3               0\n",
       "4               0"
      ]
     },
     "execution_count": 27,
     "metadata": {},
     "output_type": "execute_result"
    }
   ],
   "source": [
    "interestFrame=resFrame['interest_level']\n",
    "yList=[]\n",
    "for col,col_data in interestFrame.iteritems():\n",
    "    if col_data=='low':\n",
    "        yList.append(0)\n",
    "    elif col_data=='medium':\n",
    "        yList.append(1)\n",
    "    elif col_data=='high':\n",
    "        yList.append(2)\n",
    "YFrame=pd.DataFrame(yList,columns=['interest_level'])\n",
    "YFrame.head()"
   ]
  },
  {
   "cell_type": "markdown",
   "metadata": {},
   "source": [
    "#### Let's apply K-Means on longitude and latitude, and the result will be gepgraphical clusters\n",
    "#### Create a dataframe by taking logitutde and latitude from the resFrame which we formed in previous step"
   ]
  },
  {
   "cell_type": "code",
   "execution_count": 28,
   "metadata": {
    "collapsed": false
   },
   "outputs": [
    {
     "data": {
      "text/html": [
       "<div>\n",
       "<table border=\"1\" class=\"dataframe\">\n",
       "  <thead>\n",
       "    <tr style=\"text-align: right;\">\n",
       "      <th></th>\n",
       "      <th>latitude</th>\n",
       "      <th>longitude</th>\n",
       "    </tr>\n",
       "  </thead>\n",
       "  <tbody>\n",
       "    <tr>\n",
       "      <th>0</th>\n",
       "      <td>40.7145</td>\n",
       "      <td>-73.9425</td>\n",
       "    </tr>\n",
       "    <tr>\n",
       "      <th>1</th>\n",
       "      <td>40.7947</td>\n",
       "      <td>-73.9667</td>\n",
       "    </tr>\n",
       "    <tr>\n",
       "      <th>2</th>\n",
       "      <td>40.7388</td>\n",
       "      <td>-74.0018</td>\n",
       "    </tr>\n",
       "    <tr>\n",
       "      <th>3</th>\n",
       "      <td>40.7539</td>\n",
       "      <td>-73.9677</td>\n",
       "    </tr>\n",
       "    <tr>\n",
       "      <th>4</th>\n",
       "      <td>40.8241</td>\n",
       "      <td>-73.9493</td>\n",
       "    </tr>\n",
       "  </tbody>\n",
       "</table>\n",
       "</div>"
      ],
      "text/plain": [
       "   latitude  longitude\n",
       "0   40.7145   -73.9425\n",
       "1   40.7947   -73.9667\n",
       "2   40.7388   -74.0018\n",
       "3   40.7539   -73.9677\n",
       "4   40.8241   -73.9493"
      ]
     },
     "execution_count": 28,
     "metadata": {},
     "output_type": "execute_result"
    }
   ],
   "source": [
    "areaFrame=resFrame[['latitude','longitude']]\n",
    "areaFrame.head()"
   ]
  },
  {
   "cell_type": "code",
   "execution_count": 29,
   "metadata": {
    "collapsed": false
   },
   "outputs": [
    {
     "data": {
      "text/plain": [
       "array([0, 0, 0, ..., 0, 0, 0])"
      ]
     },
     "execution_count": 29,
     "metadata": {},
     "output_type": "execute_result"
    }
   ],
   "source": [
    "from sklearn.cluster import KMeans\n",
    "kmeans=KMeans(n_clusters=5)\n",
    "kmeans.fit(areaFrame)\n",
    "areaLabels=kmeans.labels_\n",
    "areaLabels"
   ]
  },
  {
   "cell_type": "markdown",
   "metadata": {},
   "source": [
    "#### Now make a dataframe using these clusters, areaFrame is contains clusters of longitude and latitude.\n",
    "#### Make a dataframe by conacting longitude ,latitude & areaFrame , so that we can use it for visualzation"
   ]
  },
  {
   "cell_type": "code",
   "execution_count": 30,
   "metadata": {
    "collapsed": true
   },
   "outputs": [],
   "source": [
    "areaFrame=pd.DataFrame(areaLabels,columns=['areaCost'])\n",
    "\n",
    "geoRes = pd.concat([resFrame[['latitude','longitude']], areaFrame], axis=1, join_axes=[areaFrame.index])"
   ]
  },
  {
   "cell_type": "code",
   "execution_count": 31,
   "metadata": {
    "collapsed": false
   },
   "outputs": [
    {
     "data": {
      "text/plain": [
       "<matplotlib.text.Text at 0xbfd38d0>"
      ]
     },
     "execution_count": 31,
     "metadata": {},
     "output_type": "execute_result"
    },
    {
     "data": {
      "image/png": "[encoded data removed]",
      "text/plain": [
       "<matplotlib.figure.Figure at 0x2634d8d0>"
      ]
     },
     "metadata": {},
     "output_type": "display_data"
    }
   ],
   "source": [
    "import seaborn as sns\n",
    "import matplotlib.pyplot as plt\n",
    "%matplotlib inline\n",
    "sns.set_style(\"ticks\")\n",
    "\n",
    "\n",
    "sns.lmplot('latitude', 'longitude', \n",
    "           data=geoRes.head(15000), \n",
    "           fit_reg=False, \n",
    "           hue=\"areaCost\",  \n",
    "           scatter_kws={\"s\": 100})\n",
    "plt.title('Geo Clusters')\n",
    "plt.xlabel('latitude')\n",
    "plt.ylabel('longitude')"
   ]
  },
  {
   "cell_type": "code",
   "execution_count": 32,
   "metadata": {
    "collapsed": false
   },
   "outputs": [
    {
     "data": {
      "text/html": [
       "<div>\n",
       "<table border=\"1\" class=\"dataframe\">\n",
       "  <thead>\n",
       "    <tr style=\"text-align: right;\">\n",
       "      <th></th>\n",
       "      <th>clus_0</th>\n",
       "      <th>clus_1</th>\n",
       "      <th>clus_2</th>\n",
       "      <th>clus_3</th>\n",
       "      <th>clus_4</th>\n",
       "    </tr>\n",
       "  </thead>\n",
       "  <tbody>\n",
       "  </tbody>\n",
       "</table>\n",
       "</div>"
      ],
      "text/plain": [
       "Empty DataFrame\n",
       "Columns: [clus_0, clus_1, clus_2, clus_3, clus_4]\n",
       "Index: []"
      ]
     },
     "execution_count": 32,
     "metadata": {},
     "output_type": "execute_result"
    }
   ],
   "source": [
    "clusterLabels=['clus_0','clus_1','clus_2','clus_3','clus_4']\n",
    "clusFrame=pd.DataFrame(columns=clusterLabels)\n",
    "clusFrame"
   ]
  },
  {
   "cell_type": "code",
   "execution_count": 33,
   "metadata": {
    "collapsed": true
   },
   "outputs": [],
   "source": [
    "for col,col_data in areaFrame.iteritems():\n",
    "    for x in col_data:\n",
    "        ls=[0,0,0,0,0]\n",
    "        #print x\n",
    "        if x==0:\n",
    "            ls[0]=1\n",
    "        elif x==1:\n",
    "            ls[1]=1\n",
    "        elif x==2:\n",
    "            ls[2]=1\n",
    "        elif x==3:\n",
    "            ls[3]=1\n",
    "        elif x==4:\n",
    "            ls[4]=1\n",
    "        elif x==5:\n",
    "            ls[5]=1\n",
    "        elif x==6:\n",
    "            ls[6]=1\n",
    "        elif x==7:\n",
    "            ls[7]\n",
    "\n",
    "            \n",
    "        tempDF=pd.DataFrame(np.array([[ls[0],ls[1],ls[2],ls[3],ls[4]]]),columns=clusterLabels)\n",
    "        clusFrame=pd.concat([clusFrame,tempDF],ignore_index=True)"
   ]
  },
  {
   "cell_type": "code",
   "execution_count": 34,
   "metadata": {
    "collapsed": false
   },
   "outputs": [
    {
     "data": {
      "text/html": [
       "<div>\n",
       "<table border=\"1\" class=\"dataframe\">\n",
       "  <thead>\n",
       "    <tr style=\"text-align: right;\">\n",
       "      <th></th>\n",
       "      <th>clus_0</th>\n",
       "      <th>clus_1</th>\n",
       "      <th>clus_2</th>\n",
       "      <th>clus_3</th>\n",
       "      <th>clus_4</th>\n",
       "    </tr>\n",
       "  </thead>\n",
       "  <tbody>\n",
       "    <tr>\n",
       "      <th>49347</th>\n",
       "      <td>1.0</td>\n",
       "      <td>0.0</td>\n",
       "      <td>0.0</td>\n",
       "      <td>0.0</td>\n",
       "      <td>0.0</td>\n",
       "    </tr>\n",
       "    <tr>\n",
       "      <th>49348</th>\n",
       "      <td>1.0</td>\n",
       "      <td>0.0</td>\n",
       "      <td>0.0</td>\n",
       "      <td>0.0</td>\n",
       "      <td>0.0</td>\n",
       "    </tr>\n",
       "    <tr>\n",
       "      <th>49349</th>\n",
       "      <td>1.0</td>\n",
       "      <td>0.0</td>\n",
       "      <td>0.0</td>\n",
       "      <td>0.0</td>\n",
       "      <td>0.0</td>\n",
       "    </tr>\n",
       "    <tr>\n",
       "      <th>49350</th>\n",
       "      <td>1.0</td>\n",
       "      <td>0.0</td>\n",
       "      <td>0.0</td>\n",
       "      <td>0.0</td>\n",
       "      <td>0.0</td>\n",
       "    </tr>\n",
       "    <tr>\n",
       "      <th>49351</th>\n",
       "      <td>1.0</td>\n",
       "      <td>0.0</td>\n",
       "      <td>0.0</td>\n",
       "      <td>0.0</td>\n",
       "      <td>0.0</td>\n",
       "    </tr>\n",
       "  </tbody>\n",
       "</table>\n",
       "</div>"
      ],
      "text/plain": [
       "       clus_0  clus_1  clus_2  clus_3  clus_4\n",
       "49347     1.0     0.0     0.0     0.0     0.0\n",
       "49348     1.0     0.0     0.0     0.0     0.0\n",
       "49349     1.0     0.0     0.0     0.0     0.0\n",
       "49350     1.0     0.0     0.0     0.0     0.0\n",
       "49351     1.0     0.0     0.0     0.0     0.0"
      ]
     },
     "execution_count": 34,
     "metadata": {},
     "output_type": "execute_result"
    }
   ],
   "source": [
    "clusFrame.tail()"
   ]
  },
  {
   "cell_type": "markdown",
   "metadata": {},
   "source": [
    "### Take price from the original dataframe and normalize the price"
   ]
  },
  {
   "cell_type": "code",
   "execution_count": 35,
   "metadata": {
    "collapsed": false
   },
   "outputs": [
    {
     "name": "stderr",
     "output_type": "stream",
     "text": [
      "C:\\Anaconda2\\lib\\site-packages\\sklearn\\utils\\validation.py:395: DeprecationWarning: Passing 1d arrays as data is deprecated in 0.17 and will raise ValueError in 0.19. Reshape your data either using X.reshape(-1, 1) if your data has a single feature or X.reshape(1, -1) if it contains a single sample.\n",
      "  DeprecationWarning)\n",
      "C:\\Anaconda2\\lib\\site-packages\\sklearn\\utils\\validation.py:429: DataConversionWarning: Data with input dtype int64 was converted to float64 by the normalize function.\n",
      "  warnings.warn(msg, _DataConversionWarning)\n"
     ]
    },
    {
     "data": {
      "text/html": [
       "<div>\n",
       "<table border=\"1\" class=\"dataframe\">\n",
       "  <thead>\n",
       "    <tr style=\"text-align: right;\">\n",
       "      <th></th>\n",
       "      <th>priceScaled</th>\n",
       "    </tr>\n",
       "  </thead>\n",
       "  <tbody>\n",
       "    <tr>\n",
       "      <th>0</th>\n",
       "      <td>0.000603</td>\n",
       "    </tr>\n",
       "    <tr>\n",
       "      <th>1</th>\n",
       "      <td>0.001098</td>\n",
       "    </tr>\n",
       "    <tr>\n",
       "      <th>2</th>\n",
       "      <td>0.000573</td>\n",
       "    </tr>\n",
       "    <tr>\n",
       "      <th>3</th>\n",
       "      <td>0.000658</td>\n",
       "    </tr>\n",
       "    <tr>\n",
       "      <th>4</th>\n",
       "      <td>0.000673</td>\n",
       "    </tr>\n",
       "  </tbody>\n",
       "</table>\n",
       "</div>"
      ],
      "text/plain": [
       "   priceScaled\n",
       "0     0.000603\n",
       "1     0.001098\n",
       "2     0.000573\n",
       "3     0.000658\n",
       "4     0.000673"
      ]
     },
     "execution_count": 35,
     "metadata": {},
     "output_type": "execute_result"
    }
   ],
   "source": [
    "from sklearn import preprocessing\n",
    "priceFrame=np.array(df['price'])\n",
    "priceFrame_scaled = preprocessing.normalize(priceFrame)\n",
    "priceScaledFrame=pd.DataFrame(priceFrame_scaled[0],columns=['priceScaled'])\n",
    "priceScaledFrame.head()"
   ]
  },
  {
   "cell_type": "code",
   "execution_count": null,
   "metadata": {
    "collapsed": false
   },
   "outputs": [],
   "source": []
  },
  {
   "cell_type": "code",
   "execution_count": 36,
   "metadata": {
    "collapsed": false
   },
   "outputs": [
    {
     "data": {
      "text/html": [
       "<div>\n",
       "<table border=\"1\" class=\"dataframe\">\n",
       "  <thead>\n",
       "    <tr style=\"text-align: right;\">\n",
       "      <th></th>\n",
       "      <th>bathrooms</th>\n",
       "      <th>bedrooms</th>\n",
       "      <th>priceScaled</th>\n",
       "      <th>Elevator</th>\n",
       "      <th>Cats Allowed</th>\n",
       "      <th>Hardwood Floors</th>\n",
       "      <th>Dogs Allowed</th>\n",
       "      <th>Doorman</th>\n",
       "      <th>Dishwasher</th>\n",
       "      <th>No Fee</th>\n",
       "      <th>...</th>\n",
       "      <th>pool</th>\n",
       "      <th>restaurants</th>\n",
       "      <th>marble</th>\n",
       "      <th>loft</th>\n",
       "      <th>interest_level</th>\n",
       "      <th>clus_0</th>\n",
       "      <th>clus_1</th>\n",
       "      <th>clus_2</th>\n",
       "      <th>clus_3</th>\n",
       "      <th>clus_4</th>\n",
       "    </tr>\n",
       "  </thead>\n",
       "  <tbody>\n",
       "    <tr>\n",
       "      <th>0</th>\n",
       "      <td>1.5</td>\n",
       "      <td>3</td>\n",
       "      <td>0.000603</td>\n",
       "      <td>0.0</td>\n",
       "      <td>0.0</td>\n",
       "      <td>0.0</td>\n",
       "      <td>0.0</td>\n",
       "      <td>0.0</td>\n",
       "      <td>0.0</td>\n",
       "      <td>0.0</td>\n",
       "      <td>...</td>\n",
       "      <td>0.0</td>\n",
       "      <td>0.0</td>\n",
       "      <td>0.0</td>\n",
       "      <td>0.0</td>\n",
       "      <td>medium</td>\n",
       "      <td>1.0</td>\n",
       "      <td>0.0</td>\n",
       "      <td>0.0</td>\n",
       "      <td>0.0</td>\n",
       "      <td>0.0</td>\n",
       "    </tr>\n",
       "    <tr>\n",
       "      <th>1</th>\n",
       "      <td>1.0</td>\n",
       "      <td>2</td>\n",
       "      <td>0.001098</td>\n",
       "      <td>1.0</td>\n",
       "      <td>1.0</td>\n",
       "      <td>0.0</td>\n",
       "      <td>1.0</td>\n",
       "      <td>1.0</td>\n",
       "      <td>0.0</td>\n",
       "      <td>0.0</td>\n",
       "      <td>...</td>\n",
       "      <td>0.0</td>\n",
       "      <td>0.0</td>\n",
       "      <td>0.0</td>\n",
       "      <td>0.0</td>\n",
       "      <td>low</td>\n",
       "      <td>1.0</td>\n",
       "      <td>0.0</td>\n",
       "      <td>0.0</td>\n",
       "      <td>0.0</td>\n",
       "      <td>0.0</td>\n",
       "    </tr>\n",
       "    <tr>\n",
       "      <th>2</th>\n",
       "      <td>1.0</td>\n",
       "      <td>1</td>\n",
       "      <td>0.000573</td>\n",
       "      <td>0.0</td>\n",
       "      <td>0.0</td>\n",
       "      <td>1.0</td>\n",
       "      <td>0.0</td>\n",
       "      <td>0.0</td>\n",
       "      <td>1.0</td>\n",
       "      <td>0.0</td>\n",
       "      <td>...</td>\n",
       "      <td>0.0</td>\n",
       "      <td>1.0</td>\n",
       "      <td>1.0</td>\n",
       "      <td>0.0</td>\n",
       "      <td>high</td>\n",
       "      <td>1.0</td>\n",
       "      <td>0.0</td>\n",
       "      <td>0.0</td>\n",
       "      <td>0.0</td>\n",
       "      <td>0.0</td>\n",
       "    </tr>\n",
       "    <tr>\n",
       "      <th>3</th>\n",
       "      <td>1.0</td>\n",
       "      <td>1</td>\n",
       "      <td>0.000658</td>\n",
       "      <td>0.0</td>\n",
       "      <td>0.0</td>\n",
       "      <td>1.0</td>\n",
       "      <td>0.0</td>\n",
       "      <td>0.0</td>\n",
       "      <td>0.0</td>\n",
       "      <td>1.0</td>\n",
       "      <td>...</td>\n",
       "      <td>0.0</td>\n",
       "      <td>1.0</td>\n",
       "      <td>1.0</td>\n",
       "      <td>0.0</td>\n",
       "      <td>low</td>\n",
       "      <td>1.0</td>\n",
       "      <td>0.0</td>\n",
       "      <td>0.0</td>\n",
       "      <td>0.0</td>\n",
       "      <td>0.0</td>\n",
       "    </tr>\n",
       "    <tr>\n",
       "      <th>4</th>\n",
       "      <td>1.0</td>\n",
       "      <td>4</td>\n",
       "      <td>0.000673</td>\n",
       "      <td>0.0</td>\n",
       "      <td>0.0</td>\n",
       "      <td>0.0</td>\n",
       "      <td>0.0</td>\n",
       "      <td>0.0</td>\n",
       "      <td>0.0</td>\n",
       "      <td>0.0</td>\n",
       "      <td>...</td>\n",
       "      <td>0.0</td>\n",
       "      <td>0.0</td>\n",
       "      <td>0.0</td>\n",
       "      <td>0.0</td>\n",
       "      <td>low</td>\n",
       "      <td>1.0</td>\n",
       "      <td>0.0</td>\n",
       "      <td>0.0</td>\n",
       "      <td>0.0</td>\n",
       "      <td>0.0</td>\n",
       "    </tr>\n",
       "  </tbody>\n",
       "</table>\n",
       "<p>5 rows × 26 columns</p>\n",
       "</div>"
      ],
      "text/plain": [
       "   bathrooms  bedrooms  priceScaled  Elevator  Cats Allowed  Hardwood Floors  \\\n",
       "0        1.5         3     0.000603       0.0           0.0              0.0   \n",
       "1        1.0         2     0.001098       1.0           1.0              0.0   \n",
       "2        1.0         1     0.000573       0.0           0.0              1.0   \n",
       "3        1.0         1     0.000658       0.0           0.0              1.0   \n",
       "4        1.0         4     0.000673       0.0           0.0              0.0   \n",
       "\n",
       "   Dogs Allowed  Doorman  Dishwasher  No Fee   ...    pool  restaurants  \\\n",
       "0           0.0      0.0         0.0     0.0   ...     0.0          0.0   \n",
       "1           1.0      1.0         0.0     0.0   ...     0.0          0.0   \n",
       "2           0.0      0.0         1.0     0.0   ...     0.0          1.0   \n",
       "3           0.0      0.0         0.0     1.0   ...     0.0          1.0   \n",
       "4           0.0      0.0         0.0     0.0   ...     0.0          0.0   \n",
       "\n",
       "   marble  loft  interest_level  clus_0  clus_1  clus_2  clus_3  clus_4  \n",
       "0     0.0   0.0          medium     1.0     0.0     0.0     0.0     0.0  \n",
       "1     0.0   0.0             low     1.0     0.0     0.0     0.0     0.0  \n",
       "2     1.0   0.0            high     1.0     0.0     0.0     0.0     0.0  \n",
       "3     1.0   0.0             low     1.0     0.0     0.0     0.0     0.0  \n",
       "4     0.0   0.0             low     1.0     0.0     0.0     0.0     0.0  \n",
       "\n",
       "[5 rows x 26 columns]"
      ]
     },
     "execution_count": 36,
     "metadata": {},
     "output_type": "execute_result"
    }
   ],
   "source": [
    "clusRes = pd.concat([resFrame, clusFrame], axis=1, join_axes=[resFrame.index])\n",
    "priceRes = pd.concat([clusRes, priceScaledFrame], axis=1, join_axes=[clusRes.index])\n",
    "displayFrame=priceRes[['bathrooms','bedrooms','priceScaled','Elevator','Cats Allowed','Hardwood Floors','Dogs Allowed','Doorman','Dishwasher','No Fee','Laundry in Building','Fitness Center','Pre-War','new','park','renovated','pool','restaurants','marble','loft','interest_level','clus_0','clus_1','clus_2','clus_3','clus_4']]\n",
    "displayFrame.head()"
   ]
  },
  {
   "cell_type": "code",
   "execution_count": 37,
   "metadata": {
    "collapsed": false
   },
   "outputs": [
    {
     "data": {
      "text/html": [
       "<div>\n",
       "<table border=\"1\" class=\"dataframe\">\n",
       "  <thead>\n",
       "    <tr style=\"text-align: right;\">\n",
       "      <th></th>\n",
       "      <th>bathrooms</th>\n",
       "      <th>bedrooms</th>\n",
       "      <th>priceScaled</th>\n",
       "      <th>Elevator</th>\n",
       "      <th>Cats Allowed</th>\n",
       "      <th>Hardwood Floors</th>\n",
       "      <th>Dogs Allowed</th>\n",
       "      <th>Doorman</th>\n",
       "      <th>Dishwasher</th>\n",
       "      <th>No Fee</th>\n",
       "      <th>...</th>\n",
       "      <th>pool</th>\n",
       "      <th>restaurants</th>\n",
       "      <th>marble</th>\n",
       "      <th>loft</th>\n",
       "      <th>interest_level</th>\n",
       "      <th>clus_0</th>\n",
       "      <th>clus_1</th>\n",
       "      <th>clus_2</th>\n",
       "      <th>clus_3</th>\n",
       "      <th>clus_4</th>\n",
       "    </tr>\n",
       "  </thead>\n",
       "  <tbody>\n",
       "    <tr>\n",
       "      <th>49347</th>\n",
       "      <td>1.0</td>\n",
       "      <td>2</td>\n",
       "      <td>0.000643</td>\n",
       "      <td>1.0</td>\n",
       "      <td>0.0</td>\n",
       "      <td>1.0</td>\n",
       "      <td>0.0</td>\n",
       "      <td>0.0</td>\n",
       "      <td>1.0</td>\n",
       "      <td>1.0</td>\n",
       "      <td>...</td>\n",
       "      <td>0.0</td>\n",
       "      <td>0.0</td>\n",
       "      <td>1.0</td>\n",
       "      <td>0.0</td>\n",
       "      <td>medium</td>\n",
       "      <td>1.0</td>\n",
       "      <td>0.0</td>\n",
       "      <td>0.0</td>\n",
       "      <td>0.0</td>\n",
       "      <td>0.0</td>\n",
       "    </tr>\n",
       "    <tr>\n",
       "      <th>49348</th>\n",
       "      <td>1.0</td>\n",
       "      <td>1</td>\n",
       "      <td>0.000794</td>\n",
       "      <td>1.0</td>\n",
       "      <td>1.0</td>\n",
       "      <td>0.0</td>\n",
       "      <td>1.0</td>\n",
       "      <td>1.0</td>\n",
       "      <td>0.0</td>\n",
       "      <td>0.0</td>\n",
       "      <td>...</td>\n",
       "      <td>1.0</td>\n",
       "      <td>0.0</td>\n",
       "      <td>0.0</td>\n",
       "      <td>0.0</td>\n",
       "      <td>low</td>\n",
       "      <td>1.0</td>\n",
       "      <td>0.0</td>\n",
       "      <td>0.0</td>\n",
       "      <td>0.0</td>\n",
       "      <td>0.0</td>\n",
       "    </tr>\n",
       "    <tr>\n",
       "      <th>49349</th>\n",
       "      <td>1.0</td>\n",
       "      <td>1</td>\n",
       "      <td>0.000522</td>\n",
       "      <td>1.0</td>\n",
       "      <td>1.0</td>\n",
       "      <td>0.0</td>\n",
       "      <td>1.0</td>\n",
       "      <td>1.0</td>\n",
       "      <td>0.0</td>\n",
       "      <td>0.0</td>\n",
       "      <td>...</td>\n",
       "      <td>0.0</td>\n",
       "      <td>0.0</td>\n",
       "      <td>1.0</td>\n",
       "      <td>0.0</td>\n",
       "      <td>low</td>\n",
       "      <td>1.0</td>\n",
       "      <td>0.0</td>\n",
       "      <td>0.0</td>\n",
       "      <td>0.0</td>\n",
       "      <td>0.0</td>\n",
       "    </tr>\n",
       "    <tr>\n",
       "      <th>49350</th>\n",
       "      <td>1.0</td>\n",
       "      <td>0</td>\n",
       "      <td>0.000673</td>\n",
       "      <td>1.0</td>\n",
       "      <td>1.0</td>\n",
       "      <td>0.0</td>\n",
       "      <td>1.0</td>\n",
       "      <td>1.0</td>\n",
       "      <td>0.0</td>\n",
       "      <td>0.0</td>\n",
       "      <td>...</td>\n",
       "      <td>0.0</td>\n",
       "      <td>0.0</td>\n",
       "      <td>0.0</td>\n",
       "      <td>0.0</td>\n",
       "      <td>low</td>\n",
       "      <td>1.0</td>\n",
       "      <td>0.0</td>\n",
       "      <td>0.0</td>\n",
       "      <td>0.0</td>\n",
       "      <td>0.0</td>\n",
       "    </tr>\n",
       "    <tr>\n",
       "      <th>49351</th>\n",
       "      <td>1.0</td>\n",
       "      <td>2</td>\n",
       "      <td>0.000442</td>\n",
       "      <td>0.0</td>\n",
       "      <td>0.0</td>\n",
       "      <td>1.0</td>\n",
       "      <td>0.0</td>\n",
       "      <td>0.0</td>\n",
       "      <td>0.0</td>\n",
       "      <td>0.0</td>\n",
       "      <td>...</td>\n",
       "      <td>0.0</td>\n",
       "      <td>0.0</td>\n",
       "      <td>0.0</td>\n",
       "      <td>0.0</td>\n",
       "      <td>low</td>\n",
       "      <td>1.0</td>\n",
       "      <td>0.0</td>\n",
       "      <td>0.0</td>\n",
       "      <td>0.0</td>\n",
       "      <td>0.0</td>\n",
       "    </tr>\n",
       "  </tbody>\n",
       "</table>\n",
       "<p>5 rows × 26 columns</p>\n",
       "</div>"
      ],
      "text/plain": [
       "       bathrooms  bedrooms  priceScaled  Elevator  Cats Allowed  \\\n",
       "49347        1.0         2     0.000643       1.0           0.0   \n",
       "49348        1.0         1     0.000794       1.0           1.0   \n",
       "49349        1.0         1     0.000522       1.0           1.0   \n",
       "49350        1.0         0     0.000673       1.0           1.0   \n",
       "49351        1.0         2     0.000442       0.0           0.0   \n",
       "\n",
       "       Hardwood Floors  Dogs Allowed  Doorman  Dishwasher  No Fee   ...    \\\n",
       "49347              1.0           0.0      0.0         1.0     1.0   ...     \n",
       "49348              0.0           1.0      1.0         0.0     0.0   ...     \n",
       "49349              0.0           1.0      1.0         0.0     0.0   ...     \n",
       "49350              0.0           1.0      1.0         0.0     0.0   ...     \n",
       "49351              1.0           0.0      0.0         0.0     0.0   ...     \n",
       "\n",
       "       pool  restaurants  marble  loft  interest_level  clus_0  clus_1  \\\n",
       "49347   0.0          0.0     1.0   0.0          medium     1.0     0.0   \n",
       "49348   1.0          0.0     0.0   0.0             low     1.0     0.0   \n",
       "49349   0.0          0.0     1.0   0.0             low     1.0     0.0   \n",
       "49350   0.0          0.0     0.0   0.0             low     1.0     0.0   \n",
       "49351   0.0          0.0     0.0   0.0             low     1.0     0.0   \n",
       "\n",
       "       clus_2  clus_3  clus_4  \n",
       "49347     0.0     0.0     0.0  \n",
       "49348     0.0     0.0     0.0  \n",
       "49349     0.0     0.0     0.0  \n",
       "49350     0.0     0.0     0.0  \n",
       "49351     0.0     0.0     0.0  \n",
       "\n",
       "[5 rows x 26 columns]"
      ]
     },
     "execution_count": 37,
     "metadata": {},
     "output_type": "execute_result"
    }
   ],
   "source": [
    "displayFrame.tail()"
   ]
  },
  {
   "cell_type": "code",
   "execution_count": 38,
   "metadata": {
    "collapsed": false
   },
   "outputs": [
    {
     "data": {
      "image/png": "[encoded data removed]",
      "text/plain": [
       "<matplotlib.figure.Figure at 0xbfbe940>"
      ]
     },
     "metadata": {},
     "output_type": "display_data"
    }
   ],
   "source": [
    "import seaborn as sns\n",
    "fig, na_ax = plt.subplots(nrows=7,ncols=4,figsize=(20,20))\n",
    "\n",
    "na_ax = na_ax.ravel()\n",
    "\n",
    "for col, ax in zip(displayFrame.columns, na_ax):\n",
    "    sns.countplot(x=col,data=displayFrame, hue='interest_level', ax=ax);\n",
    "fig.suptitle('count of Interest level of listing w.r.t labels', fontsize=15, y=1.02)\n",
    "fig.tight_layout();"
   ]
  },
  {
   "cell_type": "code",
   "execution_count": 39,
   "metadata": {
    "collapsed": false
   },
   "outputs": [
    {
     "data": {
      "text/plain": [
       "Index([          u'bathrooms',            u'bedrooms',         u'priceScaled',\n",
       "                  u'Elevator',        u'Cats Allowed',     u'Hardwood Floors',\n",
       "              u'Dogs Allowed',             u'Doorman',          u'Dishwasher',\n",
       "                    u'No Fee', u'Laundry in Building',      u'Fitness Center',\n",
       "                   u'Pre-War',                 u'new',                u'park',\n",
       "                 u'renovated',                u'pool',         u'restaurants',\n",
       "                    u'marble',                u'loft',      u'interest_level',\n",
       "                    u'clus_0',              u'clus_1',              u'clus_2',\n",
       "                    u'clus_3',              u'clus_4'],\n",
       "      dtype='object')"
      ]
     },
     "execution_count": 39,
     "metadata": {},
     "output_type": "execute_result"
    }
   ],
   "source": [
    "displayFrame.columns"
   ]
  },
  {
   "cell_type": "markdown",
   "metadata": {},
   "source": [
    "#### The fallowing visualizations helps us to understand how many users of particular interest level are using the features"
   ]
  },
  {
   "cell_type": "code",
   "execution_count": 40,
   "metadata": {
    "collapsed": false
   },
   "outputs": [],
   "source": [
    "testFrameX=displayFrame[['Elevator','Cats Allowed','Hardwood Floors','Dogs Allowed','Doorman','Dishwasher','No Fee','Laundry in Building','Fitness Center','Pre-War','new','park','renovated','pool','restaurants','marble','loft']]"
   ]
  },
  {
   "cell_type": "code",
   "execution_count": 41,
   "metadata": {
    "collapsed": false
   },
   "outputs": [],
   "source": [
    "mediumUsers=[]\n",
    "lowUsers=[]\n",
    "highUsers=[]\n",
    "for y in testFrameX:\n",
    "    mediumUsers.append(displayFrame.loc[displayFrame.interest_level=='medium',y].sum())\n",
    "    lowUsers.append(displayFrame.loc[displayFrame.interest_level=='low',y].sum())\n",
    "    highUsers.append(displayFrame.loc[displayFrame.interest_level=='high',y].sum())\n"
   ]
  },
  {
   "cell_type": "code",
   "execution_count": 44,
   "metadata": {
    "collapsed": false
   },
   "outputs": [
    {
     "data": {
      "image/png": "[encoded data removed]",
      "text/plain": [
       "<matplotlib.figure.Figure at 0x2df695f8>"
      ]
     },
     "metadata": {},
     "output_type": "display_data"
    },
    {
     "data": {
      "image/png": "[encoded data removed]",
      "text/plain": [
       "<matplotlib.figure.Figure at 0x2df95ef0>"
      ]
     },
     "metadata": {},
     "output_type": "display_data"
    },
    {
     "data": {
      "image/png": "[encoded data removed]",
      "text/plain": [
       "<matplotlib.figure.Figure at 0x31326358>"
      ]
     },
     "metadata": {},
     "output_type": "display_data"
    }
   ],
   "source": [
    "features = ('Elevator','Cats','wood','Dogs','Doorman','Dish','No Fee','Laundry','Fit','Pre-War','new','park','renovated','pool','restaurents','marble','loft')\n",
    "y_pos = np.arange(len(features))\n",
    "\n",
    "megax={'Medium':mediumUsers,'Low':lowUsers,'High':highUsers}\n",
    "for k,v in megax.iteritems(): \n",
    "    plt.bar(y_pos, v, alpha=0.8)\n",
    "    plt.xticks(y_pos, features,rotation='vertical')\n",
    "    plt.ylabel('No.of Users')\n",
    "    plt.title(' \"No.of Users\" VS \"Features when Interest Level is '+k+'\"')\n",
    "    plt.show()\n"
   ]
  },
  {
   "cell_type": "code",
   "execution_count": null,
   "metadata": {
    "collapsed": true
   },
   "outputs": [],
   "source": []
  },
  {
   "cell_type": "markdown",
   "metadata": {},
   "source": [
    "### Convert the labeled Y column (target column) into numerical"
   ]
  },
  {
   "cell_type": "code",
   "execution_count": 45,
   "metadata": {
    "collapsed": false
   },
   "outputs": [
    {
     "data": {
      "text/html": [
       "<div>\n",
       "<table border=\"1\" class=\"dataframe\">\n",
       "  <thead>\n",
       "    <tr style=\"text-align: right;\">\n",
       "      <th></th>\n",
       "      <th>interest_level</th>\n",
       "    </tr>\n",
       "  </thead>\n",
       "  <tbody>\n",
       "    <tr>\n",
       "      <th>0</th>\n",
       "      <td>1</td>\n",
       "    </tr>\n",
       "    <tr>\n",
       "      <th>1</th>\n",
       "      <td>0</td>\n",
       "    </tr>\n",
       "    <tr>\n",
       "      <th>2</th>\n",
       "      <td>2</td>\n",
       "    </tr>\n",
       "    <tr>\n",
       "      <th>3</th>\n",
       "      <td>0</td>\n",
       "    </tr>\n",
       "    <tr>\n",
       "      <th>4</th>\n",
       "      <td>0</td>\n",
       "    </tr>\n",
       "  </tbody>\n",
       "</table>\n",
       "</div>"
      ],
      "text/plain": [
       "   interest_level\n",
       "0               1\n",
       "1               0\n",
       "2               2\n",
       "3               0\n",
       "4               0"
      ]
     },
     "execution_count": 45,
     "metadata": {},
     "output_type": "execute_result"
    }
   ],
   "source": [
    "interestFrame=resFrame['interest_level']\n",
    "yList=[]\n",
    "for col,col_data in interestFrame.iteritems():\n",
    "    if col_data=='low':\n",
    "        yList.append(0)\n",
    "    elif col_data=='medium':\n",
    "        yList.append(1)\n",
    "    elif col_data=='high':\n",
    "        yList.append(2)\n",
    "YFrame=pd.DataFrame(yList,columns=['interest_level'])\n",
    "YFrame.head()"
   ]
  },
  {
   "cell_type": "code",
   "execution_count": 46,
   "metadata": {
    "collapsed": false
   },
   "outputs": [
    {
     "data": {
      "text/html": [
       "<div>\n",
       "<table border=\"1\" class=\"dataframe\">\n",
       "  <thead>\n",
       "    <tr style=\"text-align: right;\">\n",
       "      <th></th>\n",
       "      <th>bathrooms</th>\n",
       "      <th>bedrooms</th>\n",
       "      <th>priceScaled</th>\n",
       "      <th>Elevator</th>\n",
       "      <th>Cats Allowed</th>\n",
       "      <th>Hardwood Floors</th>\n",
       "      <th>Dogs Allowed</th>\n",
       "      <th>Doorman</th>\n",
       "      <th>Dishwasher</th>\n",
       "      <th>No Fee</th>\n",
       "      <th>...</th>\n",
       "      <th>renovated</th>\n",
       "      <th>pool</th>\n",
       "      <th>restaurants</th>\n",
       "      <th>marble</th>\n",
       "      <th>loft</th>\n",
       "      <th>clus_0</th>\n",
       "      <th>clus_1</th>\n",
       "      <th>clus_2</th>\n",
       "      <th>clus_3</th>\n",
       "      <th>clus_4</th>\n",
       "    </tr>\n",
       "  </thead>\n",
       "  <tbody>\n",
       "    <tr>\n",
       "      <th>0</th>\n",
       "      <td>1.5</td>\n",
       "      <td>3</td>\n",
       "      <td>0.000603</td>\n",
       "      <td>0.0</td>\n",
       "      <td>0.0</td>\n",
       "      <td>0.0</td>\n",
       "      <td>0.0</td>\n",
       "      <td>0.0</td>\n",
       "      <td>0.0</td>\n",
       "      <td>0.0</td>\n",
       "      <td>...</td>\n",
       "      <td>0.0</td>\n",
       "      <td>0.0</td>\n",
       "      <td>0.0</td>\n",
       "      <td>0.0</td>\n",
       "      <td>0.0</td>\n",
       "      <td>1.0</td>\n",
       "      <td>0.0</td>\n",
       "      <td>0.0</td>\n",
       "      <td>0.0</td>\n",
       "      <td>0.0</td>\n",
       "    </tr>\n",
       "    <tr>\n",
       "      <th>1</th>\n",
       "      <td>1.0</td>\n",
       "      <td>2</td>\n",
       "      <td>0.001098</td>\n",
       "      <td>1.0</td>\n",
       "      <td>1.0</td>\n",
       "      <td>0.0</td>\n",
       "      <td>1.0</td>\n",
       "      <td>1.0</td>\n",
       "      <td>0.0</td>\n",
       "      <td>0.0</td>\n",
       "      <td>...</td>\n",
       "      <td>0.0</td>\n",
       "      <td>0.0</td>\n",
       "      <td>0.0</td>\n",
       "      <td>0.0</td>\n",
       "      <td>0.0</td>\n",
       "      <td>1.0</td>\n",
       "      <td>0.0</td>\n",
       "      <td>0.0</td>\n",
       "      <td>0.0</td>\n",
       "      <td>0.0</td>\n",
       "    </tr>\n",
       "    <tr>\n",
       "      <th>2</th>\n",
       "      <td>1.0</td>\n",
       "      <td>1</td>\n",
       "      <td>0.000573</td>\n",
       "      <td>0.0</td>\n",
       "      <td>0.0</td>\n",
       "      <td>1.0</td>\n",
       "      <td>0.0</td>\n",
       "      <td>0.0</td>\n",
       "      <td>1.0</td>\n",
       "      <td>0.0</td>\n",
       "      <td>...</td>\n",
       "      <td>0.0</td>\n",
       "      <td>0.0</td>\n",
       "      <td>1.0</td>\n",
       "      <td>1.0</td>\n",
       "      <td>0.0</td>\n",
       "      <td>1.0</td>\n",
       "      <td>0.0</td>\n",
       "      <td>0.0</td>\n",
       "      <td>0.0</td>\n",
       "      <td>0.0</td>\n",
       "    </tr>\n",
       "    <tr>\n",
       "      <th>3</th>\n",
       "      <td>1.0</td>\n",
       "      <td>1</td>\n",
       "      <td>0.000658</td>\n",
       "      <td>0.0</td>\n",
       "      <td>0.0</td>\n",
       "      <td>1.0</td>\n",
       "      <td>0.0</td>\n",
       "      <td>0.0</td>\n",
       "      <td>0.0</td>\n",
       "      <td>1.0</td>\n",
       "      <td>...</td>\n",
       "      <td>1.0</td>\n",
       "      <td>0.0</td>\n",
       "      <td>1.0</td>\n",
       "      <td>1.0</td>\n",
       "      <td>0.0</td>\n",
       "      <td>1.0</td>\n",
       "      <td>0.0</td>\n",
       "      <td>0.0</td>\n",
       "      <td>0.0</td>\n",
       "      <td>0.0</td>\n",
       "    </tr>\n",
       "    <tr>\n",
       "      <th>4</th>\n",
       "      <td>1.0</td>\n",
       "      <td>4</td>\n",
       "      <td>0.000673</td>\n",
       "      <td>0.0</td>\n",
       "      <td>0.0</td>\n",
       "      <td>0.0</td>\n",
       "      <td>0.0</td>\n",
       "      <td>0.0</td>\n",
       "      <td>0.0</td>\n",
       "      <td>0.0</td>\n",
       "      <td>...</td>\n",
       "      <td>1.0</td>\n",
       "      <td>0.0</td>\n",
       "      <td>0.0</td>\n",
       "      <td>0.0</td>\n",
       "      <td>0.0</td>\n",
       "      <td>1.0</td>\n",
       "      <td>0.0</td>\n",
       "      <td>0.0</td>\n",
       "      <td>0.0</td>\n",
       "      <td>0.0</td>\n",
       "    </tr>\n",
       "  </tbody>\n",
       "</table>\n",
       "<p>5 rows × 25 columns</p>\n",
       "</div>"
      ],
      "text/plain": [
       "   bathrooms  bedrooms  priceScaled  Elevator  Cats Allowed  Hardwood Floors  \\\n",
       "0        1.5         3     0.000603       0.0           0.0              0.0   \n",
       "1        1.0         2     0.001098       1.0           1.0              0.0   \n",
       "2        1.0         1     0.000573       0.0           0.0              1.0   \n",
       "3        1.0         1     0.000658       0.0           0.0              1.0   \n",
       "4        1.0         4     0.000673       0.0           0.0              0.0   \n",
       "\n",
       "   Dogs Allowed  Doorman  Dishwasher  No Fee   ...    renovated  pool  \\\n",
       "0           0.0      0.0         0.0     0.0   ...          0.0   0.0   \n",
       "1           1.0      1.0         0.0     0.0   ...          0.0   0.0   \n",
       "2           0.0      0.0         1.0     0.0   ...          0.0   0.0   \n",
       "3           0.0      0.0         0.0     1.0   ...          1.0   0.0   \n",
       "4           0.0      0.0         0.0     0.0   ...          1.0   0.0   \n",
       "\n",
       "   restaurants  marble  loft  clus_0  clus_1  clus_2  clus_3  clus_4  \n",
       "0          0.0     0.0   0.0     1.0     0.0     0.0     0.0     0.0  \n",
       "1          0.0     0.0   0.0     1.0     0.0     0.0     0.0     0.0  \n",
       "2          1.0     1.0   0.0     1.0     0.0     0.0     0.0     0.0  \n",
       "3          1.0     1.0   0.0     1.0     0.0     0.0     0.0     0.0  \n",
       "4          0.0     0.0   0.0     1.0     0.0     0.0     0.0     0.0  \n",
       "\n",
       "[5 rows x 25 columns]"
      ]
     },
     "execution_count": 46,
     "metadata": {},
     "output_type": "execute_result"
    }
   ],
   "source": [
    "XTrain=displayFrame[['bathrooms','bedrooms','priceScaled','Elevator','Cats Allowed','Hardwood Floors','Dogs Allowed','Doorman','Dishwasher','No Fee','Laundry in Building','Fitness Center','Pre-War','new','park','renovated','pool','restaurants','marble','loft','clus_0','clus_1','clus_2','clus_3','clus_4']]\n",
    "XTrain.head()"
   ]
  },
  {
   "cell_type": "code",
   "execution_count": 47,
   "metadata": {
    "collapsed": false
   },
   "outputs": [],
   "source": [
    "from sklearn.datasets import make_classification\n",
    "from sklearn.multioutput import MultiOutputClassifier\n",
    "from sklearn.ensemble import RandomForestClassifier\n",
    "from sklearn.ensemble import AdaBoostClassifier\n",
    "from sklearn.ensemble import BaggingClassifier\n",
    "from sklearn.tree import DecisionTreeClassifier \n",
    "from sklearn.linear_model import LogisticRegression\n",
    "from sklearn.multiclass import OneVsRestClassifier\n",
    "from sklearn.metrics import f1_score\n",
    "from sklearn import svm"
   ]
  },
  {
   "cell_type": "code",
   "execution_count": 48,
   "metadata": {
    "collapsed": false
   },
   "outputs": [
    {
     "name": "stderr",
     "output_type": "stream",
     "text": [
      "C:\\Anaconda2\\lib\\site-packages\\sklearn\\cross_validation.py:44: DeprecationWarning: This module was deprecated in version 0.18 in favor of the model_selection module into which all the refactored classes and functions are moved. Also note that the interface of the new CV iterators are different from that of this module. This module will be removed in 0.20.\n",
      "  \"This module will be removed in 0.20.\", DeprecationWarning)\n"
     ]
    }
   ],
   "source": [
    "from sklearn.cross_validation import train_test_split"
   ]
  },
  {
   "cell_type": "code",
   "execution_count": 49,
   "metadata": {
    "collapsed": true
   },
   "outputs": [],
   "source": [
    "X_train, X_test, y_train, y_test = train_test_split(XTrain, YFrame, test_size=0.25, random_state=0)"
   ]
  },
  {
   "cell_type": "markdown",
   "metadata": {},
   "source": [
    "### From the data we can imply that we need to use multi label classification algorithm. so first take a regular classification algorithm and use it in multi lable classification algorithm.\n",
    "#### Here we can use ensemble classifier than using the regular classification algorithm, as I tried several algos and found AdaBoost yields better results"
   ]
  },
  {
   "cell_type": "code",
   "execution_count": 116,
   "metadata": {
    "collapsed": false
   },
   "outputs": [],
   "source": [
    "forest = AdaBoostClassifier(n_estimators=100, random_state=0,learning_rate=1)\n",
    "multi_target_forest = OneVsRestClassifier(forest, n_jobs=-1)\n",
    "clf=multi_target_forest.fit(X_train,y_train)\n",
    "op=clf.predict(X_test)"
   ]
  },
  {
   "cell_type": "code",
   "execution_count": null,
   "metadata": {
    "collapsed": false
   },
   "outputs": [],
   "source": []
  },
  {
   "cell_type": "markdown",
   "metadata": {},
   "source": []
  },
  {
   "cell_type": "code",
   "execution_count": 117,
   "metadata": {
    "collapsed": false
   },
   "outputs": [
    {
     "data": {
      "text/plain": [
       "0.71000162100826714"
      ]
     },
     "execution_count": 117,
     "metadata": {},
     "output_type": "execute_result"
    }
   ],
   "source": [
    "f1_score(y_test,op,average='micro')\n"
   ]
  },
  {
   "cell_type": "markdown",
   "metadata": {},
   "source": [
    "####  Trying various values for these paramters yields poor results than 0.71 F1 score"
   ]
  },
  {
   "cell_type": "code",
   "execution_count": 123,
   "metadata": {
    "collapsed": false
   },
   "outputs": [
    {
     "data": {
      "text/plain": [
       "0.46117685200194519"
      ]
     },
     "execution_count": 123,
     "metadata": {},
     "output_type": "execute_result"
    }
   ],
   "source": [
    "forest = AdaBoostClassifier(n_estimators=100, random_state=0,learning_rate=2)\n",
    "multi_target_forest = OneVsRestClassifier(forest, n_jobs=-1)\n",
    "clf=multi_target_forest.fit(X_train,y_train)\n",
    "op=clf.predict(X_test)\n",
    "f1_score(y_test,op,average='micro')"
   ]
  },
  {
   "cell_type": "code",
   "execution_count": 124,
   "metadata": {
    "collapsed": false
   },
   "outputs": [
    {
     "data": {
      "text/plain": [
       "0.46117685200194519"
      ]
     },
     "execution_count": 124,
     "metadata": {},
     "output_type": "execute_result"
    }
   ],
   "source": [
    "forest = AdaBoostClassifier(n_estimators=50, random_state=0,learning_rate=2)\n",
    "multi_target_forest = OneVsRestClassifier(forest, n_jobs=-1)\n",
    "clf=multi_target_forest.fit(X_train,y_train)\n",
    "op=clf.predict(X_test)\n",
    "f1_score(y_test,op,average='micro')"
   ]
  },
  {
   "cell_type": "code",
   "execution_count": 125,
   "metadata": {
    "collapsed": false
   },
   "outputs": [
    {
     "data": {
      "text/plain": [
       "0.22604960285297454"
      ]
     },
     "execution_count": 125,
     "metadata": {},
     "output_type": "execute_result"
    }
   ],
   "source": [
    "forest = AdaBoostClassifier(n_estimators=50, random_state=0,learning_rate=5)\n",
    "multi_target_forest = OneVsRestClassifier(forest, n_jobs=-1)\n",
    "clf=multi_target_forest.fit(X_train,y_train)\n",
    "op=clf.predict(X_test)\n",
    "f1_score(y_test,op,average='micro')"
   ]
  },
  {
   "cell_type": "markdown",
   "metadata": {},
   "source": [
    "## Now let's try the Random Forests Classifier"
   ]
  },
  {
   "cell_type": "code",
   "execution_count": 120,
   "metadata": {
    "collapsed": false
   },
   "outputs": [],
   "source": [
    "forest = RandomForestClassifier(n_estimators=100,random_state=1,max_depth=80, min_samples_split=30, min_samples_leaf=15)\n",
    "multi_target_forest = OneVsRestClassifier(forest, n_jobs=-1)\n",
    "clf=multi_target_forest.fit(X_train,y_train)\n",
    "op=clf.predict(X_test)"
   ]
  },
  {
   "cell_type": "code",
   "execution_count": 119,
   "metadata": {
    "collapsed": false
   },
   "outputs": [
    {
     "data": {
      "text/plain": [
       "0.71470254498297936"
      ]
     },
     "execution_count": 119,
     "metadata": {},
     "output_type": "execute_result"
    }
   ],
   "source": [
    "f1_score(y_test,op,average='micro')"
   ]
  },
  {
   "cell_type": "code",
   "execution_count": null,
   "metadata": {
    "collapsed": true
   },
   "outputs": [],
   "source": []
  },
  {
   "cell_type": "code",
   "execution_count": 131,
   "metadata": {
    "collapsed": false
   },
   "outputs": [
    {
     "data": {
      "text/plain": [
       "0.71640460366347869"
      ]
     },
     "execution_count": 131,
     "metadata": {},
     "output_type": "execute_result"
    }
   ],
   "source": [
    "forest = RandomForestClassifier(n_estimators=100,random_state=1,max_depth=80, min_samples_split=50, min_samples_leaf=2)\n",
    "multi_target_forest = OneVsRestClassifier(forest, n_jobs=-1)\n",
    "clf=multi_target_forest.fit(X_train,y_train)\n",
    "op=clf.predict(X_test)\n",
    "f1_score(y_test,op,average='micro')"
   ]
  },
  {
   "cell_type": "code",
   "execution_count": 132,
   "metadata": {
    "collapsed": false
   },
   "outputs": [
    {
     "data": {
      "text/plain": [
       "0.71745825903712124"
      ]
     },
     "execution_count": 132,
     "metadata": {},
     "output_type": "execute_result"
    }
   ],
   "source": [
    "forest = RandomForestClassifier(n_estimators=50,random_state=1,max_depth=80, min_samples_split=30, min_samples_leaf=1)\n",
    "multi_target_forest = OneVsRestClassifier(forest, n_jobs=-1)\n",
    "clf=multi_target_forest.fit(X_train,y_train)\n",
    "op=clf.predict(X_test)\n",
    "f1_score(y_test,op,average='micro')"
   ]
  },
  {
   "cell_type": "markdown",
   "metadata": {},
   "source": [
    "## This is the best score I got after implementing various values for parameters - F1 score 0.7174"
   ]
  },
  {
   "cell_type": "code",
   "execution_count": 121,
   "metadata": {
    "collapsed": false
   },
   "outputs": [],
   "source": [
    "forest = DecisionTreeClassifier(random_state=0)\n",
    "multi_target_forest = OneVsRestClassifier(forest, n_jobs=-1)\n",
    "clf=multi_target_forest.fit(X_train,y_train)\n",
    "op=clf.predict(X_test)"
   ]
  },
  {
   "cell_type": "code",
   "execution_count": 122,
   "metadata": {
    "collapsed": false
   },
   "outputs": [
    {
     "data": {
      "text/plain": [
       "0.59677419354838712"
      ]
     },
     "execution_count": 122,
     "metadata": {},
     "output_type": "execute_result"
    }
   ],
   "source": [
    "f1_score(y_test,op,average='micro')"
   ]
  },
  {
   "cell_type": "code",
   "execution_count": 138,
   "metadata": {
    "collapsed": false
   },
   "outputs": [],
   "source": [
    "forest = svm.SVC(random_state=0)\n",
    "multi_target_forest = OneVsRestClassifier(forest, n_jobs=-1)\n",
    "clf=forest.fit(X_train,y_train)\n",
    "op=clf.predict(X_test)"
   ]
  },
  {
   "cell_type": "code",
   "execution_count": 139,
   "metadata": {
    "collapsed": false
   },
   "outputs": [
    {
     "data": {
      "text/plain": [
       "0.69768195817798673"
      ]
     },
     "execution_count": 139,
     "metadata": {},
     "output_type": "execute_result"
    }
   ],
   "source": [
    "f1_score(y_test,op,average='micro')"
   ]
  },
  {
   "cell_type": "markdown",
   "metadata": {},
   "source": [
    "### let's make some changes to data sets and check the stability of our model"
   ]
  },
  {
   "cell_type": "code",
   "execution_count": 140,
   "metadata": {
    "collapsed": true
   },
   "outputs": [],
   "source": [
    "X_train, X_test, y_train, y_test = train_test_split(XTrain, YFrame, test_size=0.35, random_state=1)"
   ]
  },
  {
   "cell_type": "code",
   "execution_count": 141,
   "metadata": {
    "collapsed": false
   },
   "outputs": [
    {
     "data": {
      "text/plain": [
       "0.710142410559222"
      ]
     },
     "execution_count": 141,
     "metadata": {},
     "output_type": "execute_result"
    }
   ],
   "source": [
    "forest = RandomForestClassifier(n_estimators=50,random_state=1,max_depth=80, min_samples_split=30, min_samples_leaf=1)\n",
    "multi_target_forest = OneVsRestClassifier(forest, n_jobs=-1)\n",
    "clf=multi_target_forest.fit(X_train,y_train)\n",
    "op=clf.predict(X_test)\n",
    "f1_score(y_test,op,average='micro')"
   ]
  },
  {
   "cell_type": "code",
   "execution_count": 142,
   "metadata": {
    "collapsed": false
   },
   "outputs": [
    {
     "data": {
      "text/plain": [
       "0.70917195731460214"
      ]
     },
     "execution_count": 142,
     "metadata": {},
     "output_type": "execute_result"
    }
   ],
   "source": [
    "X_train, X_test, y_train, y_test = train_test_split(XTrain, YFrame, test_size=0.3)\n",
    "forest = RandomForestClassifier(n_estimators=50,random_state=1,max_depth=80, min_samples_split=30, min_samples_leaf=1)\n",
    "multi_target_forest = OneVsRestClassifier(forest, n_jobs=-1)\n",
    "clf=multi_target_forest.fit(X_train,y_train)\n",
    "op=clf.predict(X_test)\n",
    "f1_score(y_test,op,average='micro')"
   ]
  },
  {
   "cell_type": "code",
   "execution_count": 144,
   "metadata": {
    "collapsed": false
   },
   "outputs": [
    {
     "data": {
      "text/plain": [
       "0.7128311635682083"
      ]
     },
     "execution_count": 144,
     "metadata": {},
     "output_type": "execute_result"
    }
   ],
   "source": [
    "X_train, X_test, y_train, y_test = train_test_split(XTrain, YFrame, test_size=0.4,random_state=3)\n",
    "forest = RandomForestClassifier(n_estimators=50,random_state=1,max_depth=80, min_samples_split=30, min_samples_leaf=1)\n",
    "multi_target_forest = OneVsRestClassifier(forest, n_jobs=-1)\n",
    "clf=multi_target_forest.fit(X_train,y_train)\n",
    "op=clf.predict(X_test)\n",
    "f1_score(y_test,op,average='micro')"
   ]
  },
  {
   "cell_type": "markdown",
   "metadata": {},
   "source": [
    "# With the above 3 code snippets, we can conclude that our model is stable as every time it yields similar scores "
   ]
  },
  {
   "cell_type": "code",
   "execution_count": null,
   "metadata": {
    "collapsed": true
   },
   "outputs": [],
   "source": []
  }
 ],
 "metadata": {
  "anaconda-cloud": {},
  "kernelspec": {
   "display_name": "Python [Root]",
   "language": "python",
   "name": "Python [Root]"
  },
  "language_info": {
   "codemirror_mode": {
    "name": "ipython",
    "version": 2
   },
   "file_extension": ".py",
   "mimetype": "text/x-python",
   "name": "python",
   "nbconvert_exporter": "python",
   "pygments_lexer": "ipython2",
   "version": "2.7.12"
  }
 },
 "nbformat": 4,
 "nbformat_minor": 0
}
